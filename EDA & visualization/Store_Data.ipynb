{
 "cells": [
  {
   "cell_type": "markdown",
   "metadata": {},
   "source": [
    "## 소상공인시장진흥공단_상가업소정보\n",
    "### 개요 : 소상공인 상권정보 상가업소 데이터 "
   ]
  },
  {
   "cell_type": "markdown",
   "metadata": {},
   "source": [
    "####   \n",
    "####   "
   ]
  },
  {
   "cell_type": "code",
   "execution_count": null,
   "metadata": {},
   "outputs": [],
   "source": [
    "import matplotlib.pyplot as plt\n",
    "import pandas as pd \n",
    "import matplotlib.font_manager as fm"
   ]
  },
  {
   "cell_type": "code",
   "execution_count": 1,
   "metadata": {},
   "outputs": [
    {
     "data": {
      "text/html": [
       "<div>\n",
       "<style scoped>\n",
       "    .dataframe tbody tr th:only-of-type {\n",
       "        vertical-align: middle;\n",
       "    }\n",
       "\n",
       "    .dataframe tbody tr th {\n",
       "        vertical-align: top;\n",
       "    }\n",
       "\n",
       "    .dataframe thead th {\n",
       "        text-align: right;\n",
       "    }\n",
       "</style>\n",
       "<table border=\"1\" class=\"dataframe\">\n",
       "  <thead>\n",
       "    <tr style=\"text-align: right;\">\n",
       "      <th></th>\n",
       "      <th>상가업소번호</th>\n",
       "      <th>상호명</th>\n",
       "      <th>지점명</th>\n",
       "      <th>상권업종대분류코드</th>\n",
       "      <th>상권업종대분류명</th>\n",
       "      <th>상권업종중분류코드</th>\n",
       "      <th>상권업종중분류명</th>\n",
       "      <th>상권업종소분류코드</th>\n",
       "      <th>상권업종소분류명</th>\n",
       "      <th>표준산업분류코드</th>\n",
       "      <th>...</th>\n",
       "      <th>건물관리번호</th>\n",
       "      <th>건물명</th>\n",
       "      <th>도로명주소</th>\n",
       "      <th>구우편번호</th>\n",
       "      <th>신우편번호</th>\n",
       "      <th>동정보</th>\n",
       "      <th>층정보</th>\n",
       "      <th>호정보</th>\n",
       "      <th>경도</th>\n",
       "      <th>위도</th>\n",
       "    </tr>\n",
       "  </thead>\n",
       "  <tbody>\n",
       "    <tr>\n",
       "      <th>0</th>\n",
       "      <td>28523551</td>\n",
       "      <td>엘가커피부산아시아드점</td>\n",
       "      <td>부산아시아드점</td>\n",
       "      <td>Q</td>\n",
       "      <td>음식</td>\n",
       "      <td>Q12</td>\n",
       "      <td>커피점/카페</td>\n",
       "      <td>Q12A01</td>\n",
       "      <td>커피전문점/카페/다방</td>\n",
       "      <td>I56220</td>\n",
       "      <td>...</td>\n",
       "      <td>2647010100111980000009422</td>\n",
       "      <td>부산아시아드주경기장노외주차장</td>\n",
       "      <td>부산광역시 연제구 종합운동장로 7</td>\n",
       "      <td>611070</td>\n",
       "      <td>47500.0</td>\n",
       "      <td>NaN</td>\n",
       "      <td>1</td>\n",
       "      <td>NaN</td>\n",
       "      <td>129.062034</td>\n",
       "      <td>35.191284</td>\n",
       "    </tr>\n",
       "    <tr>\n",
       "      <th>1</th>\n",
       "      <td>28498271</td>\n",
       "      <td>비비안아울렛중계점</td>\n",
       "      <td>아울렛중계점</td>\n",
       "      <td>D</td>\n",
       "      <td>소매</td>\n",
       "      <td>D05</td>\n",
       "      <td>의복의류</td>\n",
       "      <td>D05A07</td>\n",
       "      <td>셔츠/내의/속옷</td>\n",
       "      <td>NaN</td>\n",
       "      <td>...</td>\n",
       "      <td>1135010600105090000010511</td>\n",
       "      <td>2001아울렛</td>\n",
       "      <td>서울특별시 노원구 동일로204가길 46</td>\n",
       "      <td>139726</td>\n",
       "      <td>1783.0</td>\n",
       "      <td>NaN</td>\n",
       "      <td>3</td>\n",
       "      <td>NaN</td>\n",
       "      <td>127.067888</td>\n",
       "      <td>37.641280</td>\n",
       "    </tr>\n",
       "    <tr>\n",
       "      <th>2</th>\n",
       "      <td>28512174</td>\n",
       "      <td>연세정신건강의학과의원</td>\n",
       "      <td>NaN</td>\n",
       "      <td>S</td>\n",
       "      <td>의료</td>\n",
       "      <td>S01</td>\n",
       "      <td>병원</td>\n",
       "      <td>S01B99</td>\n",
       "      <td>기타병원</td>\n",
       "      <td>NaN</td>\n",
       "      <td>...</td>\n",
       "      <td>1111017400102990000005842</td>\n",
       "      <td>유림문화사</td>\n",
       "      <td>서울특별시 종로구 종로 335-3</td>\n",
       "      <td>110540</td>\n",
       "      <td>3104.0</td>\n",
       "      <td>NaN</td>\n",
       "      <td>2</td>\n",
       "      <td>NaN</td>\n",
       "      <td>127.014500</td>\n",
       "      <td>37.573196</td>\n",
       "    </tr>\n",
       "    <tr>\n",
       "      <th>3</th>\n",
       "      <td>28499926</td>\n",
       "      <td>독일지멘스보청기은평점</td>\n",
       "      <td>은평점</td>\n",
       "      <td>D</td>\n",
       "      <td>소매</td>\n",
       "      <td>D20</td>\n",
       "      <td>의약/의료품소매</td>\n",
       "      <td>D20A02</td>\n",
       "      <td>보청기판매</td>\n",
       "      <td>G47812</td>\n",
       "      <td>...</td>\n",
       "      <td>1138010300102810108040063</td>\n",
       "      <td>NaN</td>\n",
       "      <td>서울특별시 은평구 통일로 732</td>\n",
       "      <td>122040</td>\n",
       "      <td>3368.0</td>\n",
       "      <td>NaN</td>\n",
       "      <td>2</td>\n",
       "      <td>NaN</td>\n",
       "      <td>126.929871</td>\n",
       "      <td>37.610888</td>\n",
       "    </tr>\n",
       "    <tr>\n",
       "      <th>4</th>\n",
       "      <td>28490321</td>\n",
       "      <td>서울모드</td>\n",
       "      <td>NaN</td>\n",
       "      <td>Q</td>\n",
       "      <td>음식</td>\n",
       "      <td>Q12</td>\n",
       "      <td>커피점/카페</td>\n",
       "      <td>Q12A01</td>\n",
       "      <td>커피전문점/카페/다방</td>\n",
       "      <td>I56220</td>\n",
       "      <td>...</td>\n",
       "      <td>1168010700105170027011767</td>\n",
       "      <td>SM빌딩</td>\n",
       "      <td>서울특별시 강남구 도산대로11길 29</td>\n",
       "      <td>135888</td>\n",
       "      <td>6034.0</td>\n",
       "      <td>NaN</td>\n",
       "      <td>1</td>\n",
       "      <td>NaN</td>\n",
       "      <td>127.022212</td>\n",
       "      <td>37.519315</td>\n",
       "    </tr>\n",
       "  </tbody>\n",
       "</table>\n",
       "<p>5 rows × 39 columns</p>\n",
       "</div>"
      ],
      "text/plain": [
       "     상가업소번호          상호명      지점명 상권업종대분류코드 상권업종대분류명 상권업종중분류코드  상권업종중분류명  \\\n",
       "0  28523551  엘가커피부산아시아드점  부산아시아드점         Q       음식       Q12    커피점/카페   \n",
       "1  28498271    비비안아울렛중계점   아울렛중계점         D       소매       D05      의복의류   \n",
       "2  28512174  연세정신건강의학과의원      NaN         S       의료       S01        병원   \n",
       "3  28499926  독일지멘스보청기은평점      은평점         D       소매       D20  의약/의료품소매   \n",
       "4  28490321         서울모드      NaN         Q       음식       Q12    커피점/카페   \n",
       "\n",
       "  상권업종소분류코드     상권업종소분류명 표준산업분류코드    ...                         건물관리번호  \\\n",
       "0    Q12A01  커피전문점/카페/다방   I56220    ...      2647010100111980000009422   \n",
       "1    D05A07     셔츠/내의/속옷      NaN    ...      1135010600105090000010511   \n",
       "2    S01B99         기타병원      NaN    ...      1111017400102990000005842   \n",
       "3    D20A02        보청기판매   G47812    ...      1138010300102810108040063   \n",
       "4    Q12A01  커피전문점/카페/다방   I56220    ...      1168010700105170027011767   \n",
       "\n",
       "               건물명                  도로명주소   구우편번호    신우편번호  동정보 층정보  호정보  \\\n",
       "0  부산아시아드주경기장노외주차장     부산광역시 연제구 종합운동장로 7  611070  47500.0  NaN   1  NaN   \n",
       "1          2001아울렛  서울특별시 노원구 동일로204가길 46  139726   1783.0  NaN   3  NaN   \n",
       "2            유림문화사     서울특별시 종로구 종로 335-3  110540   3104.0  NaN   2  NaN   \n",
       "3              NaN      서울특별시 은평구 통일로 732  122040   3368.0  NaN   2  NaN   \n",
       "4             SM빌딩   서울특별시 강남구 도산대로11길 29  135888   6034.0  NaN   1  NaN   \n",
       "\n",
       "           경도         위도  \n",
       "0  129.062034  35.191284  \n",
       "1  127.067888  37.641280  \n",
       "2  127.014500  37.573196  \n",
       "3  126.929871  37.610888  \n",
       "4  127.022212  37.519315  \n",
       "\n",
       "[5 rows x 39 columns]"
      ]
     },
     "execution_count": 1,
     "metadata": {},
     "output_type": "execute_result"
    }
   ],
   "source": [
    "import pandas as pd \n",
    "\n",
    "store_inf = pd.read_csv('소상공인시장진흥공단_상가업소정보_201806_01.csv', engine='python')\n",
    "store_inf.head()"
   ]
  },
  {
   "cell_type": "code",
   "execution_count": 2,
   "metadata": {},
   "outputs": [
    {
     "name": "stdout",
     "output_type": "stream",
     "text": [
      "(476183, 39)\n"
     ]
    }
   ],
   "source": [
    "print(store_inf.shape)"
   ]
  },
  {
   "cell_type": "code",
   "execution_count": 3,
   "metadata": {},
   "outputs": [
    {
     "name": "stdout",
     "output_type": "stream",
     "text": [
      "상가업소번호\n",
      "상호명\n",
      "지점명\n",
      "상권업종대분류코드\n",
      "상권업종대분류명\n",
      "상권업종중분류코드\n",
      "상권업종중분류명\n",
      "상권업종소분류코드\n",
      "상권업종소분류명\n",
      "표준산업분류코드\n",
      "표준산업분류명\n",
      "시도코드\n",
      "시도명\n",
      "시군구코드\n",
      "시군구명\n",
      "행정동코드\n",
      "행정동명\n",
      "법정동코드\n",
      "법정동명\n",
      "지번코드\n",
      "대지구분코드\n",
      "대지구분명\n",
      "지번본번지\n",
      "지번부번지\n",
      "지번주소\n",
      "도로명코드\n",
      "도로명\n",
      "건물본번지\n",
      "건물부번지\n",
      "건물관리번호\n",
      "건물명\n",
      "도로명주소\n",
      "구우편번호\n",
      "신우편번호\n",
      "동정보\n",
      "층정보\n",
      "호정보\n",
      "경도\n",
      "위도\n"
     ]
    }
   ],
   "source": [
    "sic = store_inf.columns\n",
    "for i in sic:\n",
    "    print(i)"
   ]
  },
  {
   "cell_type": "code",
   "execution_count": 15,
   "metadata": {},
   "outputs": [
    {
     "data": {
      "text/plain": [
       "Q    157467\n",
       "D    150740\n",
       "F     76022\n",
       "R     36113\n",
       "S     20646\n",
       "L     17199\n",
       "N     13164\n",
       "O      4756\n",
       "P        76\n",
       "Name: 상권업종대분류코드, dtype: int64"
      ]
     },
     "execution_count": 15,
     "metadata": {},
     "output_type": "execute_result"
    }
   ],
   "source": [
    "store_inf['상권업종대분류코드'].value_counts()"
   ]
  },
  {
   "cell_type": "code",
   "execution_count": 18,
   "metadata": {},
   "outputs": [
    {
     "data": {
      "text/plain": [
       "음식          157467\n",
       "소매          150740\n",
       "생활서비스        76022\n",
       "학문/교육        36113\n",
       "의료           20646\n",
       "부동산          17199\n",
       "관광/여가/오락     13164\n",
       "숙박            4756\n",
       "스포츠             76\n",
       "Name: 상권업종대분류명, dtype: int64"
      ]
     },
     "execution_count": 18,
     "metadata": {},
     "output_type": "execute_result"
    }
   ],
   "source": [
    "store_inf['상권업종대분류명'].value_counts()"
   ]
  },
  {
   "cell_type": "code",
   "execution_count": 19,
   "metadata": {},
   "outputs": [
    {
     "data": {
      "text/plain": [
       "Q01    52719\n",
       "F01    36211\n",
       "D03    30172\n",
       "D05    27077\n",
       "Q09    19610\n",
       "Q12    19096\n",
       "L01    16298\n",
       "D01    15236\n",
       "Q04    15101\n",
       "S01    14377\n",
       "Q03    13094\n",
       "D07    12775\n",
       "F02    10587\n",
       "Q05     9052\n",
       "R01     8445\n",
       "F14     8123\n",
       "D18     8008\n",
       "D06     7928\n",
       "Q06     7697\n",
       "D16     7567\n",
       "Q07     6278\n",
       "R09     6246\n",
       "R08     6243\n",
       "Q08     6190\n",
       "N02     5892\n",
       "D08     5640\n",
       "R05     5041\n",
       "N01     4920\n",
       "D10     4807\n",
       "R04     4491\n",
       "       ...  \n",
       "S03      788\n",
       "L03      712\n",
       "F08      626\n",
       "D17      575\n",
       "R13      562\n",
       "Q15      519\n",
       "Q14      436\n",
       "N08      410\n",
       "D09      386\n",
       "F20      370\n",
       "R03      363\n",
       "D11      340\n",
       "F18      327\n",
       "N03      323\n",
       "R06      292\n",
       "R02      213\n",
       "O05      185\n",
       "L04      185\n",
       "F19      146\n",
       "Q13      123\n",
       "O03      106\n",
       "S07       88\n",
       "D19       77\n",
       "P02       63\n",
       "N07       55\n",
       "N04       42\n",
       "O04       16\n",
       "P01       11\n",
       "L05        4\n",
       "P03        2\n",
       "Name: 상권업종중분류코드, Length: 94, dtype: int64"
      ]
     },
     "execution_count": 19,
     "metadata": {},
     "output_type": "execute_result"
    }
   ],
   "source": [
    "store_inf['상권업종중분류코드'].value_counts()"
   ]
  },
  {
   "cell_type": "code",
   "execution_count": 20,
   "metadata": {},
   "outputs": [
    {
     "data": {
      "text/plain": [
       "한식               52719\n",
       "이/미용/건강          36211\n",
       "종합소매점            30172\n",
       "의복의류             27077\n",
       "유흥주점             19610\n",
       "커피점/카페           19096\n",
       "부동산중개            16298\n",
       "음/식료품소매          15236\n",
       "분식               15101\n",
       "병원               14377\n",
       "일식/수산물           13094\n",
       "가정/주방/인테리어       12775\n",
       "세탁/가사서비스         10587\n",
       "닭/오리요리            9052\n",
       "학원-보습교습입시         8445\n",
       "자동차/이륜차           8123\n",
       "사진/광학/정밀기기소매      8008\n",
       "가방/신발/액세서리        7928\n",
       "양식                7697\n",
       "화장품소매             7567\n",
       "패스트푸드             6278\n",
       "학원기타              6246\n",
       "유아교육              6243\n",
       "제과제빵떡케익           6190\n",
       "무도/유흥/가무          5892\n",
       "사무/문구/컴퓨터         5640\n",
       "학원-음악미술무용         5041\n",
       "PC/오락/당구/볼링등      4920\n",
       "건강/미용식품           4807\n",
       "학원-어학             4491\n",
       "                 ...  \n",
       "유사의료업              788\n",
       "분양                 712\n",
       "대행업                626\n",
       "예술품/골동품/수석/분재      575\n",
       "학문교육기타             562\n",
       "부페                 519\n",
       "기타음식업              436\n",
       "경마/경륜/성인오락         410\n",
       "애견/애완/동물           386\n",
       "행사/이벤트             370\n",
       "학원-자격/국가고시         363\n",
       "유아용품               340\n",
       "장례/묘지              327\n",
       "연극/영화/극장           323\n",
       "학원-컴퓨터             292\n",
       "학원-창업취업취미          213\n",
       "민박/하숙              185\n",
       "평가/개발/관리           185\n",
       "법무세무회계             146\n",
       "음식배달서비스            123\n",
       "캠프/별장/펜션           106\n",
       "의료관련서비스업            88\n",
       "종교용품판매              77\n",
       "실내운동시설              63\n",
       "놀이/여가/취미            55\n",
       "스포츠/운동              42\n",
       "유스호스텔               16\n",
       "운영관리시설              11\n",
       "부동산관련서비스             4\n",
       "실외운동시설               2\n",
       "Name: 상권업종중분류명, Length: 94, dtype: int64"
      ]
     },
     "execution_count": 20,
     "metadata": {},
     "output_type": "execute_result"
    }
   ],
   "source": [
    "store_inf['상권업종중분류명'].value_counts()"
   ]
  },
  {
   "cell_type": "code",
   "execution_count": 4,
   "metadata": {},
   "outputs": [
    {
     "data": {
      "text/plain": [
       "Q01A01    34155\n",
       "F01A01    21902\n",
       "Q12A01    18759\n",
       "L01A01    16298\n",
       "D05A01    13499\n",
       "D03A01    11018\n",
       "Q09A01     9774\n",
       "Q04A01     9079\n",
       "R01A01     8418\n",
       "F02A01     7575\n",
       "D16A01     7532\n",
       "F01A03     7214\n",
       "D03A02     6731\n",
       "Q05A08     6654\n",
       "D03A06     6318\n",
       "Q01A02     6143\n",
       "R08A02     5803\n",
       "N02A01     5555\n",
       "R09A01     5485\n",
       "Q06A01     5168\n",
       "F14A01     5130\n",
       "Q08A01     4633\n",
       "Q02A00     4286\n",
       "D18A02     4203\n",
       "R04A01     4090\n",
       "S02A01     3962\n",
       "Q09A10     3763\n",
       "D01A01     3644\n",
       "Q04A02     3639\n",
       "O02A01     3591\n",
       "          ...  \n",
       "R09A06        1\n",
       "R02A19        1\n",
       "R03A07        1\n",
       "F07A16        1\n",
       "N04A04        1\n",
       "R02A25        1\n",
       "N03A05        1\n",
       "D04A12        1\n",
       "R02A11        1\n",
       "F17A02        1\n",
       "R03A06        1\n",
       "L04A05        1\n",
       "N07A03        1\n",
       "F04A09        1\n",
       "R02A24        1\n",
       "D18A12        1\n",
       "F11A06        1\n",
       "R02A21        1\n",
       "P02A99        1\n",
       "D04A10        1\n",
       "N04A03        1\n",
       "R02A18        1\n",
       "D25A20        1\n",
       "F02A08        1\n",
       "D25A09        1\n",
       "P01A00        1\n",
       "F13A04        1\n",
       "D18A05        1\n",
       "F13A21        1\n",
       "D03B09        1\n",
       "Name: 상권업종소분류코드, Length: 702, dtype: int64"
      ]
     },
     "execution_count": 4,
     "metadata": {},
     "output_type": "execute_result"
    }
   ],
   "source": [
    "store_inf['상권업종소분류코드'].value_counts()"
   ]
  },
  {
   "cell_type": "code",
   "execution_count": 6,
   "metadata": {},
   "outputs": [
    {
     "data": {
      "text/plain": [
       "한식/백반/한정식      34155\n",
       "여성미용실          21902\n",
       "커피전문점/카페/다방    18759\n",
       "부동산중개          16298\n",
       "일반의류           13499\n",
       "편의점            11018\n",
       "호프/맥주           9774\n",
       "라면김밥분식          9079\n",
       "학원-입시           8418\n",
       "세탁소/빨래방         7575\n",
       "화장품판매점          7532\n",
       "비만/피부관리         7214\n",
       "수퍼마켓            6731\n",
       "후라이드/양념치킨       6654\n",
       "종합소매            6318\n",
       "갈비/삼겹살          6143\n",
       "어린이집            5803\n",
       "노래방             5555\n",
       "학원(종합)          5485\n",
       "정통양식/경양식        5168\n",
       "자동차정비/카센타       5130\n",
       "제과점             4633\n",
       "중국음식/중국집        4286\n",
       "핸드폰소매           4203\n",
       "학원-외국어/어학       4090\n",
       "약국              3962\n",
       "룸살롱/단란주점        3763\n",
       "식료품점            3644\n",
       "국수/만두/칼국수       3639\n",
       "모텔/여관/여인숙       3591\n",
       "               ...  \n",
       "공연티켓예매             1\n",
       "학원-디스플레이           1\n",
       "학원-비디오             1\n",
       "실내스케이트장            1\n",
       "가방대여               1\n",
       "특수사진기              1\n",
       "주말농장               1\n",
       "실외야구연습장            1\n",
       "운동경기협회             1\n",
       "피아노운반              1\n",
       "현미경/망원경판매          1\n",
       "박제표본               1\n",
       "패션쇼대행              1\n",
       "파라솔판매              1\n",
       "가죽모피세탁             1\n",
       "학원-세탁기술            1\n",
       "학원-섬유기술            1\n",
       "음악감상               1\n",
       "제기용품판매             1\n",
       "종교서적판매             1\n",
       "복싱도장               1\n",
       "학원-기계고시            1\n",
       "학원-기계/금형기술         1\n",
       "학원-냉동열관리           1\n",
       "기타실내운동시설           1\n",
       "화폐수집상              1\n",
       "드라이아이스판매           1\n",
       "부동산소유권조사           1\n",
       "학원-TV기술            1\n",
       "호신용품판매             1\n",
       "Name: 상권업종소분류명, Length: 702, dtype: int64"
      ]
     },
     "execution_count": 6,
     "metadata": {},
     "output_type": "execute_result"
    }
   ],
   "source": [
    "store_inf['상권업종소분류명'].value_counts()"
   ]
  },
  {
   "cell_type": "code",
   "execution_count": 7,
   "metadata": {},
   "outputs": [
    {
     "data": {
      "text/plain": [
       "상권업종대분류명  시도명  \n",
       "관광/여가/오락  부산광역시      3999\n",
       "          서울특별시      9165\n",
       "부동산       부산광역시      4294\n",
       "          서울특별시     12905\n",
       "생활서비스     부산광역시     23294\n",
       "          서울특별시     52728\n",
       "소매        부산광역시     49443\n",
       "          서울특별시    101297\n",
       "숙박        부산광역시      2012\n",
       "          서울특별시      2744\n",
       "스포츠       부산광역시        30\n",
       "          서울특별시        46\n",
       "음식        부산광역시     47701\n",
       "          서울특별시    109766\n",
       "의료        부산광역시      5502\n",
       "          서울특별시     15144\n",
       "학문/교육     부산광역시      9819\n",
       "          서울특별시     26294\n",
       "dtype: int64"
      ]
     },
     "execution_count": 7,
     "metadata": {},
     "output_type": "execute_result"
    }
   ],
   "source": [
    "store_inf.groupby(['상권업종대분류명', '시도명']).size()"
   ]
  },
  {
   "cell_type": "code",
   "execution_count": 8,
   "metadata": {},
   "outputs": [
    {
     "data": {
      "text/plain": [
       "서울특별시    330089\n",
       "부산광역시    146094\n",
       "Name: 시도명, dtype: int64"
      ]
     },
     "execution_count": 8,
     "metadata": {},
     "output_type": "execute_result"
    }
   ],
   "source": [
    "store_inf['시도명'].value_counts()"
   ]
  },
  {
   "cell_type": "code",
   "execution_count": 11,
   "metadata": {},
   "outputs": [
    {
     "data": {
      "text/plain": [
       "<matplotlib.axes._subplots.AxesSubplot at 0x1b2196fc0f0>"
      ]
     },
     "execution_count": 11,
     "metadata": {},
     "output_type": "execute_result"
    },
    {
     "data": {
      "image/png": "[encoded data removed]",
      "text/plain": [
       "<Figure size 864x432 with 1 Axes>"
      ]
     },
     "metadata": {},
     "output_type": "display_data"
    }
   ],
   "source": [
    "kinks_of_stores = store_inf.groupby(['상권업종대분류명', '시도명']).size()\n",
    "\n",
    "plt.rcParams['figure.figsize'] = (12,6)\n",
    "kinks_of_stores.plot.bar()"
   ]
  },
  {
   "cell_type": "code",
   "execution_count": 12,
   "metadata": {},
   "outputs": [
    {
     "name": "stdout",
     "output_type": "stream",
     "text": [
      "버전:  2.2.2\n",
      "설치위치:  C:\\Users\\Jeong\\Anaconda3\\lib\\site-packages\\matplotlib\\__init__.py\n",
      "설정:  C:\\Users\\Jeong\\.matplotlib\n",
      "캐시:  C:\\Users\\Jeong\\.matplotlib\n"
     ]
    }
   ],
   "source": [
    "import matplotlib\n",
    "\n",
    "print ('버전: ', matplotlib.__version__)\n",
    "print ('설치위치: ', matplotlib.__file__)\n",
    "print ('설정: ', matplotlib.get_configdir())\n",
    "print ('캐시: ', matplotlib.get_cachedir())"
   ]
  },
  {
   "cell_type": "code",
   "execution_count": 14,
   "metadata": {},
   "outputs": [],
   "source": [
    "from matplotlib import font_manager, rc\n",
    "font_name = font_manager.FontProperties(fname=\"C:/Windows/Fonts/malgun.ttf\").get_name()\n",
    "rc('font', family=font_name)"
   ]
  },
  {
   "cell_type": "code",
   "execution_count": 15,
   "metadata": {},
   "outputs": [
    {
     "data": {
      "text/plain": [
       "<matplotlib.axes._subplots.AxesSubplot at 0x1b2196f8d68>"
      ]
     },
     "execution_count": 15,
     "metadata": {},
     "output_type": "execute_result"
    },
    {
     "data": {
      "image/png": "[encoded data removed]",
      "text/plain": [
       "<Figure size 864x432 with 1 Axes>"
      ]
     },
     "metadata": {},
     "output_type": "display_data"
    }
   ],
   "source": [
    "kinks_of_stores = store_inf.groupby(['상권업종대분류명', '시도명']).size()\n",
    "\n",
    "plt.rcParams['figure.figsize'] = (12,6)\n",
    "kinks_of_stores.plot.bar()"
   ]
  },
  {
   "cell_type": "code",
   "execution_count": 16,
   "metadata": {},
   "outputs": [
    {
     "data": {
      "text/plain": [
       "상권업종대분류명  시도명  \n",
       "스포츠       부산광역시       30\n",
       "          서울특별시       46\n",
       "숙박        부산광역시     2012\n",
       "          서울특별시     2744\n",
       "관광/여가/오락  부산광역시     3999\n",
       "부동산       부산광역시     4294\n",
       "의료        부산광역시     5502\n",
       "관광/여가/오락  서울특별시     9165\n",
       "학문/교육     부산광역시     9819\n",
       "부동산       서울특별시    12905\n",
       "dtype: int64"
      ]
     },
     "execution_count": 16,
     "metadata": {},
     "output_type": "execute_result"
    }
   ],
   "source": [
    "kinks_of_stores = store_inf.groupby(['상권업종대분류명', '시도명']).size()\n",
    "\n",
    "kinks_of_stores.sort_values(ascending = True).head(10)"
   ]
  },
  {
   "cell_type": "code",
   "execution_count": 17,
   "metadata": {},
   "outputs": [
    {
     "data": {
      "text/plain": [
       "<matplotlib.axes._subplots.AxesSubplot at 0x1b219938c18>"
      ]
     },
     "execution_count": 17,
     "metadata": {},
     "output_type": "execute_result"
    },
    {
     "data": {
      "image/png": "[encoded data removed]",
      "text/plain": [
       "<Figure size 864x432 with 1 Axes>"
      ]
     },
     "metadata": {},
     "output_type": "display_data"
    }
   ],
   "source": [
    "kinks_of_stores.sort_values(ascending = True).plot(kind = 'barh', color = 'g' )"
   ]
  },
  {
   "cell_type": "markdown",
   "metadata": {},
   "source": [
    "#### 전체적으로 서울시의 상권 업종별로 부산보다  크다.\n",
    "#### 서울은 음식업종이, 부산은 소매 업종이 상권에서 가장 큰 비율을 차지하고 있다. \n",
    "#### 강남8학군 등 학군이 좋다는 말이 나오는 서울이 역시 학문/교육 관련 상권이 크게 형성 되어있다. 같은 업종으로 부산보다 약 두 배 이상 크다.\n",
    "#### 스포츠 영역은 확실히 서울이나 부산이나 비중이 가장 작다. 그래프에서 보이지 않을 정도이다.\n",
    "\n"
   ]
  },
  {
   "cell_type": "code",
   "execution_count": null,
   "metadata": {},
   "outputs": [],
   "source": []
  }
 ],
 "metadata": {
  "kernelspec": {
   "display_name": "Python 3",
   "language": "python",
   "name": "python3"
  },
  "language_info": {
   "codemirror_mode": {
    "name": "ipython",
    "version": 3
   },
   "file_extension": ".py",
   "mimetype": "text/x-python",
   "name": "python",
   "nbconvert_exporter": "python",
   "pygments_lexer": "ipython3",
   "version": "3.6.5"
  }
 },
 "nbformat": 4,
 "nbformat_minor": 2
}
