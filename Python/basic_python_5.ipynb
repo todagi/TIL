{
 "cells": [
  {
   "cell_type": "code",
   "execution_count": 1,
   "metadata": {},
   "outputs": [
    {
     "name": "stdout",
     "output_type": "stream",
     "text": [
      "1\n",
      "2\n",
      "3\n",
      "4\n",
      "5\n",
      "6\n",
      "7\n",
      "8\n",
      "9\n",
      "10\n"
     ]
    }
   ],
   "source": [
    "for i in range(1, 11):\n",
    "    print(i)"
   ]
  },
  {
   "cell_type": "code",
   "execution_count": 2,
   "metadata": {},
   "outputs": [
    {
     "name": "stdout",
     "output_type": "stream",
     "text": [
      "0\n",
      "1\n",
      "2\n",
      "3\n",
      "4\n",
      "5\n",
      "6\n",
      "7\n",
      "8\n",
      "9\n"
     ]
    }
   ],
   "source": [
    "for j in range(10):\n",
    "    print(j)"
   ]
  },
  {
   "cell_type": "code",
   "execution_count": 3,
   "metadata": {
    "collapsed": true
   },
   "outputs": [],
   "source": [
    "num_list = [1, 2, 3, 4, 5, 6, 7, 8, 9, 10]\n",
    "cha_list = ['bike', 'taxi', 'bus']"
   ]
  },
  {
   "cell_type": "code",
   "execution_count": 4,
   "metadata": {},
   "outputs": [
    {
     "name": "stdout",
     "output_type": "stream",
     "text": [
      "1\n",
      "2\n",
      "3\n",
      "4\n",
      "5\n",
      "6\n",
      "7\n",
      "8\n",
      "9\n",
      "10\n"
     ]
    }
   ],
   "source": [
    "for i in num_list:\n",
    "    print(i)"
   ]
  },
  {
   "cell_type": "code",
   "execution_count": 5,
   "metadata": {},
   "outputs": [
    {
     "name": "stdout",
     "output_type": "stream",
     "text": [
      "bike\n",
      "taxi\n",
      "bus\n"
     ]
    }
   ],
   "source": [
    "for j in cha_list:\n",
    "    print(j)"
   ]
  },
  {
   "cell_type": "code",
   "execution_count": 6,
   "metadata": {},
   "outputs": [
    {
     "name": "stdout",
     "output_type": "stream",
     "text": [
      "1 2 3 4 5 6 7 8 9 10 "
     ]
    }
   ],
   "source": [
    "for i in num_list:\n",
    "    print(i, end = \" \")"
   ]
  },
  {
   "cell_type": "code",
   "execution_count": 7,
   "metadata": {},
   "outputs": [
    {
     "name": "stdout",
     "output_type": "stream",
     "text": [
      "1 3 6 10 15 21 28 36 45 55 "
     ]
    }
   ],
   "source": [
    "add = 0\n",
    "for i in range(1, 11):\n",
    "    add = add + i\n",
    "    print(add, end = \" \")"
   ]
  },
  {
   "cell_type": "code",
   "execution_count": 8,
   "metadata": {},
   "outputs": [
    {
     "name": "stdout",
     "output_type": "stream",
     "text": [
      "55\n"
     ]
    }
   ],
   "source": [
    "add = 0\n",
    "for j in range(1, 11):\n",
    "    add += j\n",
    "    \n",
    "print(add)"
   ]
  },
  {
   "cell_type": "code",
   "execution_count": 9,
   "metadata": {},
   "outputs": [
    {
     "name": "stdout",
     "output_type": "stream",
     "text": [
      "1 + 1 = 2\n",
      "1 + 2 = 3\n",
      "1 + 3 = 4\n",
      "2 + 1 = 3\n",
      "2 + 2 = 4\n",
      "2 + 3 = 5\n",
      "3 + 1 = 4\n",
      "3 + 2 = 5\n",
      "3 + 3 = 6\n",
      "4 + 1 = 5\n",
      "4 + 2 = 6\n",
      "4 + 3 = 7\n",
      "5 + 1 = 6\n",
      "5 + 2 = 7\n",
      "5 + 3 = 8\n",
      "6 + 1 = 7\n",
      "6 + 2 = 8\n",
      "6 + 3 = 9\n",
      "7 + 1 = 8\n",
      "7 + 2 = 9\n",
      "7 + 3 = 10\n",
      "8 + 1 = 9\n",
      "8 + 2 = 10\n",
      "8 + 3 = 11\n",
      "9 + 1 = 10\n",
      "9 + 2 = 11\n",
      "9 + 3 = 12\n",
      "10 + 1 = 11\n",
      "10 + 2 = 12\n",
      "10 + 3 = 13\n"
     ]
    }
   ],
   "source": [
    "for i in range(1, 11):\n",
    "    for j in range(1 , 4):\n",
    "        print(i, \"+\", j, \"=\", i+j)"
   ]
  },
  {
   "cell_type": "code",
   "execution_count": 10,
   "metadata": {},
   "outputs": [
    {
     "name": "stdout",
     "output_type": "stream",
     "text": [
      "4 - 1 = 3\n",
      "3 - 1 = 2\n",
      "2 - 1 = 1\n",
      "1 - 1 = 0\n",
      "4 - 2 = 2\n",
      "3 - 2 = 1\n",
      "2 - 2 = 0\n",
      "1 - 2 = -1\n",
      "4 - 3 = 1\n",
      "3 - 3 = 0\n",
      "2 - 3 = -1\n",
      "1 - 3 = -2\n",
      "4 - 4 = 0\n",
      "3 - 4 = -1\n",
      "2 - 4 = -2\n",
      "1 - 4 = -3\n"
     ]
    }
   ],
   "source": [
    "n_list1 = [1, 2, 3, 4]\n",
    "n_list2 = [4, 3, 2, 1]\n",
    "\n",
    "for j in n_list1:\n",
    "    for i in n_list2:\n",
    "        print(i, \"-\", j, \"=\", i - j)"
   ]
  },
  {
   "cell_type": "code",
   "execution_count": 11,
   "metadata": {},
   "outputs": [
    {
     "data": {
      "text/plain": [
       "True"
      ]
     },
     "execution_count": 11,
     "metadata": {},
     "output_type": "execute_result"
    }
   ],
   "source": [
    "a = [1, 2, 3, 4, 5]\n",
    "b = []\n",
    "c = 0\n",
    "\n",
    "for i in range(1, 6):\n",
    "    c += 1\n",
    "    b.append(c)\n",
    "\n",
    "a == b"
   ]
  },
  {
   "cell_type": "code",
   "execution_count": 12,
   "metadata": {},
   "outputs": [
    {
     "data": {
      "text/plain": [
       "[1, 2, 3, 4, 5]"
      ]
     },
     "execution_count": 12,
     "metadata": {},
     "output_type": "execute_result"
    }
   ],
   "source": [
    "a"
   ]
  },
  {
   "cell_type": "code",
   "execution_count": 13,
   "metadata": {},
   "outputs": [
    {
     "data": {
      "text/plain": [
       "[1, 2, 3, 4, 5]"
      ]
     },
     "execution_count": 13,
     "metadata": {},
     "output_type": "execute_result"
    }
   ],
   "source": [
    "b"
   ]
  },
  {
   "cell_type": "code",
   "execution_count": 14,
   "metadata": {},
   "outputs": [
    {
     "data": {
      "text/plain": [
       "[1, 2, 3, 4, 5]"
      ]
     },
     "execution_count": 14,
     "metadata": {},
     "output_type": "execute_result"
    }
   ],
   "source": [
    "d = [k + 1 for k in range(5)]\n",
    "d"
   ]
  },
  {
   "cell_type": "code",
   "execution_count": null,
   "metadata": {
    "collapsed": true
   },
   "outputs": [],
   "source": []
  },
  {
   "cell_type": "code",
   "execution_count": 15,
   "metadata": {
    "collapsed": true
   },
   "outputs": [],
   "source": [
    "a = 5\n",
    "b = 4"
   ]
  },
  {
   "cell_type": "code",
   "execution_count": 16,
   "metadata": {},
   "outputs": [
    {
     "name": "stdout",
     "output_type": "stream",
     "text": [
      "True\n"
     ]
    }
   ],
   "source": [
    "if a > b:\n",
    "    print(\"True\")"
   ]
  },
  {
   "cell_type": "code",
   "execution_count": 17,
   "metadata": {
    "collapsed": true
   },
   "outputs": [],
   "source": [
    "if a < b:\n",
    "    print(\"True\")"
   ]
  },
  {
   "cell_type": "code",
   "execution_count": 18,
   "metadata": {},
   "outputs": [
    {
     "name": "stdout",
     "output_type": "stream",
     "text": [
      "True\n"
     ]
    }
   ],
   "source": [
    "if a > b:\n",
    "    print(\"True\")\n",
    "else:\n",
    "    print(\"False\")"
   ]
  },
  {
   "cell_type": "code",
   "execution_count": 19,
   "metadata": {},
   "outputs": [
    {
     "name": "stdout",
     "output_type": "stream",
     "text": [
      "False\n"
     ]
    }
   ],
   "source": [
    "if a < b:\n",
    "    print(\"True\")\n",
    "else:\n",
    "    print(\"False\")"
   ]
  },
  {
   "cell_type": "code",
   "execution_count": 20,
   "metadata": {},
   "outputs": [
    {
     "name": "stdout",
     "output_type": "stream",
     "text": [
      "Order Bulgogi\n"
     ]
    }
   ],
   "source": [
    "bulgogi = 8000\n",
    "money = 9000\n",
    "\n",
    "if money >= bulgogi:\n",
    "    print(\"Order Bulgogi\")\n",
    "else:\n",
    "    print(\"Run\")"
   ]
  },
  {
   "cell_type": "code",
   "execution_count": 22,
   "metadata": {
    "collapsed": true
   },
   "outputs": [],
   "source": [
    "bulgogi_won = 8000\n",
    "ice_cream_yen = 300"
   ]
  },
  {
   "cell_type": "code",
   "execution_count": 23,
   "metadata": {},
   "outputs": [
    {
     "name": "stdout",
     "output_type": "stream",
     "text": [
      "double choice\n"
     ]
    }
   ],
   "source": [
    "won = 10000\n",
    "yen = 500\n",
    "\n",
    "if won >= bulgogi_won and yen >= ice_cream_yen:\n",
    "    print(\"double choice\")\n",
    "else:\n",
    "    print(\"Run\")"
   ]
  },
  {
   "cell_type": "code",
   "execution_count": 24,
   "metadata": {},
   "outputs": [
    {
     "name": "stdout",
     "output_type": "stream",
     "text": [
      "one choice\n"
     ]
    }
   ],
   "source": [
    "won = 5000\n",
    "yen = 500\n",
    "\n",
    "if won >= bulgogi_won or yen >= ice_cream_yen:\n",
    "    print(\"one choice\")\n",
    "else:\n",
    "    print(\"Run\")"
   ]
  },
  {
   "cell_type": "code",
   "execution_count": 25,
   "metadata": {},
   "outputs": [
    {
     "name": "stdout",
     "output_type": "stream",
     "text": [
      "one choice\n"
     ]
    }
   ],
   "source": [
    "won = 7000\n",
    "yen = 300\n",
    "\n",
    "if won >= bulgogi_won and yen >= ice_cream_yen:\n",
    "    print(\"double choice\")\n",
    "elif won >= bulgogi_won or yen >= ice_cream_yen:\n",
    "    print(\"one choice\")\n",
    "else:\n",
    "    print(\"Run\")"
   ]
  },
  {
   "cell_type": "code",
   "execution_count": 27,
   "metadata": {},
   "outputs": [
    {
     "name": "stdout",
     "output_type": "stream",
     "text": [
      "double choice\n"
     ]
    }
   ],
   "source": [
    "won = 8000\n",
    "yen = 600\n",
    "\n",
    "if won >= bulgogi_won and yen >= ice_cream_yen:\n",
    "    print(\"double choice\")\n",
    "elif won >= bulgogi_won or yen >= ice_cream_yen:\n",
    "    print(\"one choice\")\n",
    "else:\n",
    "    print(\"Run\")"
   ]
  },
  {
   "cell_type": "code",
   "execution_count": 33,
   "metadata": {},
   "outputs": [
    {
     "name": "stdout",
     "output_type": "stream",
     "text": [
      "1\n",
      "2\n",
      "3\n",
      "4\n",
      "5\n",
      "6\n",
      "7\n",
      "8\n",
      "9\n",
      "10\n"
     ]
    }
   ],
   "source": [
    "n = 0 \n",
    "while n != 10:\n",
    "    n = n + 1\n",
    "    print(n)"
   ]
  },
  {
   "cell_type": "code",
   "execution_count": 37,
   "metadata": {},
   "outputs": [
    {
     "name": "stdout",
     "output_type": "stream",
     "text": [
      "Add inventory\n",
      "Warehouse space margin is 9\n",
      "Add inventory\n",
      "Warehouse space margin is 8\n",
      "Add inventory\n",
      "Warehouse space margin is 7\n",
      "Add inventory\n",
      "Warehouse space margin is 6\n",
      "Add inventory\n",
      "Warehouse space margin is 5\n",
      "Add inventory\n",
      "Warehouse space margin is 4\n",
      "Add inventory\n",
      "Warehouse space margin is 3\n",
      "Add inventory\n",
      "Warehouse space margin is 2\n",
      "Add inventory\n",
      "Warehouse space margin is 1\n",
      "Add inventory\n",
      "Warehouse space margin is 0\n"
     ]
    }
   ],
   "source": [
    "warehouse = 0\n",
    "box = 10 \n",
    "\n",
    "while box:\n",
    "    print(\"Add inventory\")\n",
    "    box -= 1\n",
    "    warehouse =+ 1\n",
    "    print(\"Warehouse space margin is %d\" % box)\n",
    "    if warehouse == 10: \n",
    "        print(\"Warehouse space is full\")\n",
    "        break"
   ]
  },
  {
   "cell_type": "code",
   "execution_count": 41,
   "metadata": {},
   "outputs": [
    {
     "name": "stdout",
     "output_type": "stream",
     "text": [
      "2\n",
      "4\n",
      "6\n",
      "8\n",
      "10\n"
     ]
    }
   ],
   "source": [
    "g = 0\n",
    "\n",
    "while g < 10:\n",
    "    g += 1\n",
    "    if g % 2 == 1: continue\n",
    "    print(g)"
   ]
  },
  {
   "cell_type": "code",
   "execution_count": 42,
   "metadata": {},
   "outputs": [
    {
     "name": "stdout",
     "output_type": "stream",
     "text": [
      "1\n",
      "3\n",
      "5\n",
      "7\n",
      "9\n"
     ]
    }
   ],
   "source": [
    "g = 0\n",
    "\n",
    "while g < 10:\n",
    "    g += 1\n",
    "    if g % 2 == 0: continue\n",
    "    print(g)"
   ]
  },
  {
   "cell_type": "code",
   "execution_count": null,
   "metadata": {
    "collapsed": true
   },
   "outputs": [],
   "source": [
    "while True:\n",
    "    print(a)"
   ]
  },
  {
   "cell_type": "code",
   "execution_count": null,
   "metadata": {
    "collapsed": true
   },
   "outputs": [],
   "source": []
  }
 ],
 "metadata": {
  "kernelspec": {
   "display_name": "Python 3",
   "language": "python",
   "name": "python3"
  },
  "language_info": {
   "codemirror_mode": {
    "name": "ipython",
    "version": 3
   },
   "file_extension": ".py",
   "mimetype": "text/x-python",
   "name": "python",
   "nbconvert_exporter": "python",
   "pygments_lexer": "ipython3",
   "version": "3.6.1"
  }
 },
 "nbformat": 4,
 "nbformat_minor": 2
}
