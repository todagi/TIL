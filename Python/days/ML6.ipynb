{
 "cells": [
  {
   "cell_type": "markdown",
   "metadata": {},
   "source": [
    "## Softmax Regression"
   ]
  },
  {
   "cell_type": "code",
   "execution_count": 2,
   "metadata": {},
   "outputs": [],
   "source": [
    "from tqdm import tqdm_notebook\n",
    "import tensorflow as tf"
   ]
  },
  {
   "cell_type": "code",
   "execution_count": null,
   "metadata": {},
   "outputs": [],
   "source": [
    "hours(x1)     attendance(x2)     grade(y)\n",
    "   10              5                A\n",
    "    9              5                A\n",
    "    3              2                B\n",
    "    2              4                B\n",
    "   11              1                C"
   ]
  },
  {
   "cell_type": "code",
   "execution_count": null,
   "metadata": {},
   "outputs": [],
   "source": [
    "A = [1, 0, 0]\n",
    "B = [0, 1, 0]\n",
    "C = [0, 0, 1]"
   ]
  },
  {
   "cell_type": "code",
   "execution_count": 4,
   "metadata": {},
   "outputs": [],
   "source": [
    "import tensorflow as tf\n",
    "tf.set_random_seed(777)\n",
    "\n",
    "x_data = [[10,5], [9,5], [3,2], [2,4], [11,1]]\n",
    "y_data = [[1, 0, 0], \n",
    "          [1, 0, 0], \n",
    "          [0, 1, 0], \n",
    "          [0, 1, 0],\n",
    "          [0, 0, 1]]\n",
    "\n",
    "X = tf.placeholder(\"float\", [None, 2])\n",
    "Y = tf.placeholder(\"float\", [None, 3])\n",
    "nb_class = 3\n",
    "\n",
    "W = tf.Variable(tf.random_normal([2, nb_class]), name = 'weight')\n",
    "b = tf.Variable(tf.random_normal([nb_class]), name = 'bias')\n",
    "\n",
    "hypothesis = tf.nn.softmax(tf.matmul(X, W) + b)\n",
    "cost = tf.reduce_mean(-tf.reduce_sum(Y * tf.log(hypothesis), axis = 1))\n",
    "optimizer = tf.train.GradientDescentOptimizer(learning_rate = 0.1).minimize(cost)"
   ]
  },
  {
   "cell_type": "code",
   "execution_count": 5,
   "metadata": {},
   "outputs": [
    {
     "data": {
      "application/vnd.jupyter.widget-view+json": {
       "model_id": "476cd12c576941ce8f4079ad172ed832",
       "version_major": 2,
       "version_minor": 0
      },
      "text/plain": [
       "HBox(children=(IntProgress(value=0, max=2001), HTML(value='')))"
      ]
     },
     "metadata": {},
     "output_type": "display_data"
    },
    {
     "name": "stdout",
     "output_type": "stream",
     "text": [
      "Step : 0, \t Cost : 4.843900203704834\n",
      "Step : 200, \t Cost : 0.06746585667133331\n",
      "Step : 400, \t Cost : 0.04033724591135979\n",
      "Step : 600, \t Cost : 0.02914329245686531\n",
      "Step : 800, \t Cost : 0.022887172177433968\n",
      "Step : 1000, \t Cost : 0.018865345045924187\n",
      "Step : 1200, \t Cost : 0.01605486311018467\n",
      "Step : 1400, \t Cost : 0.013977574184536934\n",
      "Step : 1600, \t Cost : 0.01237854640930891\n",
      "Step : 1800, \t Cost : 0.011109257116913795\n",
      "Step : 2000, \t Cost : 0.010076854377985\n",
      "\n"
     ]
    }
   ],
   "source": [
    "sess = tf.Session()\n",
    "sess.run(tf.global_variables_initializer())\n",
    "\n",
    "for step in tqdm_notebook(range(2001)):\n",
    "    sess.run(optimizer, feed_dict = { X : x_data, Y : y_data})\n",
    "    \n",
    "    if step % 200 == 0:\n",
    "        print(\"Step : {}, \\t Cost : {}\".format(step, sess.run(cost, feed_dict = { X : x_data, Y : y_data})))"
   ]
  },
  {
   "cell_type": "code",
   "execution_count": 6,
   "metadata": {},
   "outputs": [
    {
     "name": "stdout",
     "output_type": "stream",
     "text": [
      "[[9.9252325e-01 7.3787891e-03 9.7978191e-05]\n",
      " [2.2787986e-02 5.7418970e-07 9.7721148e-01]\n",
      " [3.1971574e-02 9.6467042e-01 3.3580705e-03]]\n",
      "WARNING:tensorflow:From <ipython-input-6-f9c86f402def>:3: arg_max (from tensorflow.python.ops.gen_math_ops) is deprecated and will be removed in a future version.\n",
      "Instructions for updating:\n",
      "Use `argmax` instead\n",
      "[0 2 1]\n"
     ]
    }
   ],
   "source": [
    "scr = sess.run(hypothesis, feed_dict={X: [[9.5,5.5], [9.9, 1.5], [3.1, 2.1]]})\n",
    "print(scr)\n",
    "print(sess.run(tf.arg_max(scr, 1)))"
   ]
  },
  {
   "cell_type": "markdown",
   "metadata": {},
   "source": [
    "* [9.9252325e-01 , 7.3787891e-03 , 9.7978191e-05] 중 가장 큰수는  '9.9252325e-01' 따라서 인덱스 0을 가져온다.\n",
    "* [2.2787986e-02 , 5.7418970e-07 , 9.7721148e-01] 중 가장 큰수는  '9.7721148e-01' 따라서 인덱스 2를 가져온다.\n",
    "* [3.1971574e-02 , 9.6467042e-01 , 3.3580705e-03] 중 가장 큰수는  '9.6467042e-01' 따라서 인덱스 1를 가져온다."
   ]
  },
  {
   "cell_type": "code",
   "execution_count": 7,
   "metadata": {},
   "outputs": [
    {
     "name": "stdout",
     "output_type": "stream",
     "text": [
      "['A', 'C', 'B']\n"
     ]
    }
   ],
   "source": [
    "grade = ['A', 'B', 'C']\n",
    "arg_val = sess.run(tf.arg_max(scr, 1))\n",
    "p_grade = [grade[val] for val in arg_val]\n",
    "print(p_grade)"
   ]
  },
  {
   "cell_type": "markdown",
   "metadata": {},
   "source": [
    "#### more complex classification"
   ]
  },
  {
   "cell_type": "code",
   "execution_count": 3,
   "metadata": {},
   "outputs": [],
   "source": [
    "import tensorflow as tf\n",
    "tf.set_random_seed(777)\n",
    "\n",
    "x_data = [[1, 2, 1, 1], \n",
    "          [2, 1, 3, 2], \n",
    "          [3, 1, 3, 4], \n",
    "          [4, 1, 5, 5],\n",
    "          [1, 7, 5, 5], \n",
    "          [1, 2, 5, 6], \n",
    "          [1, 6, 6, 6], \n",
    "          [1, 7, 7, 7]]\n",
    "\n",
    "y_data = [[0, 0, 1], \n",
    "          [0, 0, 1], \n",
    "          [0, 0, 1], \n",
    "          [0, 1, 0],\n",
    "          [0, 1, 0], \n",
    "          [0, 1, 0], \n",
    "          [1, 0, 0], \n",
    "          [1, 0, 0]]\n",
    "\n",
    "X = tf.placeholder(\"float\", [None, 4])\n",
    "Y = tf.placeholder(\"float\", [None, 3])\n",
    "nb_class = 3\n",
    "\n",
    "W = tf.Variable(tf.random_normal([4, nb_class]), name = 'wieght')\n",
    "b = tf.Variable(tf.random_normal([nb_class]), name = 'bias')\n",
    "\n",
    "hypothesis = tf.nn.softmax(tf.matmul(X, W) + b)\n",
    "cost = tf.reduce_mean(-tf.reduce_sum(Y * tf.log(hypothesis), axis = 1))\n",
    "optimizer = tf.train.GradientDescentOptimizer(learning_rate = 0.1).minimize(cost)"
   ]
  },
  {
   "cell_type": "code",
   "execution_count": 10,
   "metadata": {},
   "outputs": [
    {
     "data": {
      "application/vnd.jupyter.widget-view+json": {
       "model_id": "f2976c1e60d840cab79a33e46655617e",
       "version_major": 2,
       "version_minor": 0
      },
      "text/plain": [
       "HBox(children=(IntProgress(value=0, max=2001), HTML(value='')))"
      ]
     },
     "metadata": {},
     "output_type": "display_data"
    },
    {
     "name": "stdout",
     "output_type": "stream",
     "text": [
      "Step : 0, \t Cost : 5.048624515533447\n",
      "Step : 200, \t Cost : 0.5484252572059631\n",
      "Step : 400, \t Cost : 0.4321485459804535\n",
      "Step : 600, \t Cost : 0.35246652364730835\n",
      "Step : 800, \t Cost : 0.27682942152023315\n",
      "Step : 1000, \t Cost : 0.23268289864063263\n",
      "Step : 1200, \t Cost : 0.2105531543493271\n",
      "Step : 1400, \t Cost : 0.19221502542495728\n",
      "Step : 1600, \t Cost : 0.17675194144248962\n",
      "Step : 1800, \t Cost : 0.16353417932987213\n",
      "Step : 2000, \t Cost : 0.15210826694965363\n",
      "\n"
     ]
    }
   ],
   "source": [
    "sess = tf.Session()\n",
    "sess.run(tf.global_variables_initializer())\n",
    "    \n",
    "for step in tqdm_notebook(range(2001)):\n",
    "    sess.run(optimizer, feed_dict = {X : x_data, Y : y_data})\n",
    "    if step % 200 == 0:\n",
    "        print(\"Step : {}, \\t Cost : {}\".format(step, sess.run(cost, feed_dict={X: x_data, Y: y_data})))\n"
   ]
  },
  {
   "cell_type": "code",
   "execution_count": 12,
   "metadata": {},
   "outputs": [
    {
     "name": "stdout",
     "output_type": "stream",
     "text": [
      "[[1.3890549e-03 9.9860185e-01 9.0613257e-06]] [1]\n"
     ]
    }
   ],
   "source": [
    "scr1 = sess.run(hypothesis, feed_dict={X: [[1, 11, 7, 9]]})\n",
    "print(scr1, sess.run(tf.arg_max(scr1, 1)))"
   ]
  },
  {
   "cell_type": "code",
   "execution_count": 13,
   "metadata": {},
   "outputs": [
    {
     "name": "stdout",
     "output_type": "stream",
     "text": [
      "[[0.9311918  0.06290228 0.00590593]] [0]\n"
     ]
    }
   ],
   "source": [
    "scr2 = sess.run(hypothesis, feed_dict={X: [[1, 3, 4, 3]]})\n",
    "print(scr2, sess.run(tf.arg_max(scr2, 1)))"
   ]
  },
  {
   "cell_type": "code",
   "execution_count": 14,
   "metadata": {},
   "outputs": [
    {
     "name": "stdout",
     "output_type": "stream",
     "text": [
      "[[1.2732816e-08 3.3411323e-04 9.9966586e-01]] [2]\n"
     ]
    }
   ],
   "source": [
    "scr3 = sess.run(hypothesis, feed_dict={X: [[1, 1, 0, 1]]})\n",
    "print(scr3, sess.run(tf.arg_max(scr3, 1)))"
   ]
  },
  {
   "cell_type": "code",
   "execution_count": 15,
   "metadata": {},
   "outputs": [
    {
     "name": "stdout",
     "output_type": "stream",
     "text": [
      "[[1.3890548e-03 9.9860185e-01 9.0613094e-06]\n",
      " [9.3119180e-01 6.2902324e-02 5.9059337e-03]\n",
      " [1.2732816e-08 3.3411323e-04 9.9966586e-01]] [1 0 2]\n"
     ]
    }
   ],
   "source": [
    "all = sess.run(hypothesis, feed_dict={\n",
    "               X: [[1, 11, 7, 9], [1, 3, 4, 3], [1, 1, 0, 1]]})\n",
    "print(all, sess.run(tf.arg_max(all, 1)))"
   ]
  },
  {
   "cell_type": "markdown",
   "metadata": {},
   "source": [
    "#### Animal classification"
   ]
  },
  {
   "cell_type": "code",
   "execution_count": null,
   "metadata": {},
   "outputs": [],
   "source": [
    "#   hair     Boolean\"\n",
    "#   feathers     Boolean\"\n",
    "#   eggs     Boolean\"\n",
    "#   milk     Boolean\"\n",
    "#   airborne     Boolean\"\n",
    "#   aquatic      Boolean\"\n",
    "#   predator     Boolean\"\n",
    "#   toothed      Boolean\"\n",
    "#   backbone     Boolean\"\n",
    "#   breathes     Boolean\"\n",
    "#   venomous     Boolean\"\n",
    "#   fins     Boolean\"\n",
    "#   legs     Numeric (set of values: {0, 2, 4, 5, 6, 8})\n",
    "#   tail     Boolean\"\n",
    "#   domestic     Boolean\"\n",
    "#   catsize      Boolean\"\n",
    "\n",
    "# Birds, Insect Fishes, Amphibians, Reptiles, Mammals...\n",
    "\n",
    "# frog,0,0,1,0,0,1,1,1,1,1,0,0,4,0,0,0,5\n",
    "# leopard,1,0,0,1,0,0,1,1,1,1,0,0,4,1,0,1,1\n",
    "# sparrow,0,1,1,0,1,0,0,0,1,1,0,0,2,1,0,0,2\n",
    "# ...\n"
   ]
  },
  {
   "cell_type": "code",
   "execution_count": 17,
   "metadata": {},
   "outputs": [
    {
     "name": "stdout",
     "output_type": "stream",
     "text": [
      "(101, 16) (101, 1)\n",
      "x_data :\n",
      " [[1. 0. 0. ... 0. 0. 1.]\n",
      " [1. 0. 0. ... 1. 0. 1.]\n",
      " [0. 0. 1. ... 1. 0. 0.]\n",
      " ...\n",
      " [1. 0. 0. ... 1. 0. 1.]\n",
      " [0. 0. 1. ... 0. 0. 0.]\n",
      " [0. 1. 1. ... 1. 0. 0.]]\n",
      "y_data :\n",
      " [[0.]\n",
      " [0.]\n",
      " [3.]\n",
      " [0.]\n",
      " [0.]\n",
      " [0.]\n",
      " [0.]\n",
      " [3.]\n",
      " [3.]\n",
      " [0.]\n",
      " [0.]\n",
      " [1.]\n",
      " [3.]\n",
      " [6.]\n",
      " [6.]\n",
      " [6.]\n",
      " [1.]\n",
      " [0.]\n",
      " [3.]\n",
      " [0.]\n",
      " [1.]\n",
      " [1.]\n",
      " [0.]\n",
      " [1.]\n",
      " [5.]\n",
      " [4.]\n",
      " [4.]\n",
      " [0.]\n",
      " [0.]\n",
      " [0.]\n",
      " [5.]\n",
      " [0.]\n",
      " [0.]\n",
      " [1.]\n",
      " [3.]\n",
      " [0.]\n",
      " [0.]\n",
      " [1.]\n",
      " [3.]\n",
      " [5.]\n",
      " [5.]\n",
      " [1.]\n",
      " [5.]\n",
      " [1.]\n",
      " [0.]\n",
      " [0.]\n",
      " [6.]\n",
      " [0.]\n",
      " [0.]\n",
      " [0.]\n",
      " [0.]\n",
      " [5.]\n",
      " [4.]\n",
      " [6.]\n",
      " [0.]\n",
      " [0.]\n",
      " [1.]\n",
      " [1.]\n",
      " [1.]\n",
      " [1.]\n",
      " [3.]\n",
      " [3.]\n",
      " [2.]\n",
      " [0.]\n",
      " [0.]\n",
      " [0.]\n",
      " [0.]\n",
      " [0.]\n",
      " [0.]\n",
      " [0.]\n",
      " [0.]\n",
      " [1.]\n",
      " [6.]\n",
      " [3.]\n",
      " [0.]\n",
      " [0.]\n",
      " [2.]\n",
      " [6.]\n",
      " [1.]\n",
      " [1.]\n",
      " [2.]\n",
      " [6.]\n",
      " [3.]\n",
      " [1.]\n",
      " [0.]\n",
      " [6.]\n",
      " [3.]\n",
      " [1.]\n",
      " [5.]\n",
      " [4.]\n",
      " [2.]\n",
      " [2.]\n",
      " [3.]\n",
      " [0.]\n",
      " [0.]\n",
      " [1.]\n",
      " [0.]\n",
      " [5.]\n",
      " [0.]\n",
      " [6.]\n",
      " [1.]]\n"
     ]
    }
   ],
   "source": [
    "import numpy as np\n",
    "\n",
    "xy = np.loadtxt('./data/data-04-zoo.csv', delimiter = ',', dtype = np.float32)\n",
    "\n",
    "x_data = xy[:, 0:-1]\n",
    "y_data = xy[:, [-1]]\n",
    "\n",
    "print(x_data.shape, y_data.shape)\n",
    "print('x_data :\\n', x_data)\n",
    "print('y_data :\\n', y_data)\n"
   ]
  },
  {
   "cell_type": "code",
   "execution_count": 20,
   "metadata": {},
   "outputs": [
    {
     "name": "stdout",
     "output_type": "stream",
     "text": [
      "one_hot Tensor(\"one_hot_2:0\", shape=(?, 1, 7), dtype=float32)\n",
      "reshape Tensor(\"Reshape_1:0\", shape=(?, 7), dtype=float32)\n",
      "WARNING:tensorflow:From <ipython-input-20-4272c710ea8e>:19: softmax_cross_entropy_with_logits (from tensorflow.python.ops.nn_ops) is deprecated and will be removed in a future version.\n",
      "Instructions for updating:\n",
      "\n",
      "Future major versions of TensorFlow will allow gradients to flow\n",
      "into the labels input on backprop by default.\n",
      "\n",
      "See @{tf.nn.softmax_cross_entropy_with_logits_v2}.\n",
      "\n"
     ]
    }
   ],
   "source": [
    "nb_class = 7   # 0 ~ 6 => Y\n",
    "X = tf.placeholder(tf.float32, [None, 16])\n",
    "Y = tf.placeholder(tf.int32, [None, 1])\n",
    "\n",
    "Y_one_hot = tf.one_hot(Y, nb_class)\n",
    "print(\"one_hot\", Y_one_hot)\n",
    "\n",
    "Y_one_hot = tf.reshape(Y_one_hot, [-1, nb_class])\n",
    "print(\"reshape\", Y_one_hot)\n",
    "\n",
    "W = tf.Variable(tf.random_normal([16, nb_class]), name = 'weight')\n",
    "b = tf.Variable(tf.random_normal([nb_class]), name = 'bias')\n",
    "\n",
    "\n",
    "logits = tf.matmul(X, W) + b\n",
    "hypothesis = tf.nn.softmax(logits)\n",
    "\n",
    "cost_i = tf.nn.softmax_cross_entropy_with_logits(logits = logits,\n",
    "                                                 labels = Y_one_hot)\n",
    "cost = tf.reduce_mean(cost_i)\n",
    "optimizer = tf.train.GradientDescentOptimizer(learning_rate = 0.1).minimize(cost)\n",
    "\n",
    "prediction = tf.argmax(hypothesis, 1)\n",
    "correct_prediction = tf.equal(prediction, tf.argmax(Y_one_hot, 1))\n",
    "accuracy = tf.reduce_mean(tf.cast(correct_prediction, tf.float32))"
   ]
  },
  {
   "cell_type": "code",
   "execution_count": 22,
   "metadata": {},
   "outputs": [
    {
     "data": {
      "application/vnd.jupyter.widget-view+json": {
       "model_id": "9436e21025474c07b0e43f35b573c77b",
       "version_major": 2,
       "version_minor": 0
      },
      "text/plain": [
       "HBox(children=(IntProgress(value=0, max=2001), HTML(value='')))"
      ]
     },
     "metadata": {},
     "output_type": "display_data"
    },
    {
     "name": "stdout",
     "output_type": "stream",
     "text": [
      "Step :     0, \t Loss : 8.084, \t Acc : 8.91%\n",
      "Step :   100, \t Loss : 0.604, \t Acc : 78.22%\n",
      "Step :   200, \t Loss : 0.363, \t Acc : 92.08%\n",
      "Step :   300, \t Loss : 0.269, \t Acc : 96.04%\n",
      "Step :   400, \t Loss : 0.214, \t Acc : 96.04%\n",
      "Step :   500, \t Loss : 0.177, \t Acc : 97.03%\n",
      "Step :   600, \t Loss : 0.150, \t Acc : 97.03%\n",
      "Step :   700, \t Loss : 0.131, \t Acc : 98.02%\n",
      "Step :   800, \t Loss : 0.116, \t Acc : 98.02%\n",
      "Step :   900, \t Loss : 0.104, \t Acc : 100.00%\n",
      "Step :  1000, \t Loss : 0.094, \t Acc : 100.00%\n",
      "Step :  1100, \t Loss : 0.086, \t Acc : 100.00%\n",
      "Step :  1200, \t Loss : 0.080, \t Acc : 100.00%\n",
      "Step :  1300, \t Loss : 0.074, \t Acc : 100.00%\n",
      "Step :  1400, \t Loss : 0.069, \t Acc : 100.00%\n",
      "Step :  1500, \t Loss : 0.065, \t Acc : 100.00%\n",
      "Step :  1600, \t Loss : 0.061, \t Acc : 100.00%\n",
      "Step :  1700, \t Loss : 0.058, \t Acc : 100.00%\n",
      "Step :  1800, \t Loss : 0.055, \t Acc : 100.00%\n",
      "Step :  1900, \t Loss : 0.052, \t Acc : 100.00%\n",
      "Step :  2000, \t Loss : 0.050, \t Acc : 100.00%\n",
      "\n"
     ]
    }
   ],
   "source": [
    "sess = tf.Session()\n",
    "sess.run(tf.global_variables_initializer())\n",
    "\n",
    "for step in tqdm_notebook(range(2000+1)):\n",
    "    sess.run(optimizer, feed_dict = { X : x_data, Y : y_data})\n",
    "    if step % 100 == 0:\n",
    "        loss, acc = sess.run([cost, accuracy], feed_dict = { X : x_data, Y : y_data})\n",
    "        print(\"Step : {:5}, \\t Loss : {:.3f}, \\t Acc : {:.2%}\".format(step, loss, acc))    \n",
    "    "
   ]
  },
  {
   "cell_type": "code",
   "execution_count": 23,
   "metadata": {},
   "outputs": [
    {
     "name": "stdout",
     "output_type": "stream",
     "text": [
      "[True] Prediction : 0, True Y : 0\n",
      "[True] Prediction : 0, True Y : 0\n",
      "[True] Prediction : 3, True Y : 3\n",
      "[True] Prediction : 0, True Y : 0\n",
      "[True] Prediction : 0, True Y : 0\n",
      "[True] Prediction : 0, True Y : 0\n",
      "[True] Prediction : 0, True Y : 0\n",
      "[True] Prediction : 3, True Y : 3\n",
      "[True] Prediction : 3, True Y : 3\n",
      "[True] Prediction : 0, True Y : 0\n",
      "[True] Prediction : 0, True Y : 0\n",
      "[True] Prediction : 1, True Y : 1\n",
      "[True] Prediction : 3, True Y : 3\n",
      "[True] Prediction : 6, True Y : 6\n",
      "[True] Prediction : 6, True Y : 6\n",
      "[True] Prediction : 6, True Y : 6\n",
      "[True] Prediction : 1, True Y : 1\n",
      "[True] Prediction : 0, True Y : 0\n",
      "[True] Prediction : 3, True Y : 3\n",
      "[True] Prediction : 0, True Y : 0\n",
      "[True] Prediction : 1, True Y : 1\n",
      "[True] Prediction : 1, True Y : 1\n",
      "[True] Prediction : 0, True Y : 0\n",
      "[True] Prediction : 1, True Y : 1\n",
      "[True] Prediction : 5, True Y : 5\n",
      "[True] Prediction : 4, True Y : 4\n",
      "[True] Prediction : 4, True Y : 4\n",
      "[True] Prediction : 0, True Y : 0\n",
      "[True] Prediction : 0, True Y : 0\n",
      "[True] Prediction : 0, True Y : 0\n",
      "[True] Prediction : 5, True Y : 5\n",
      "[True] Prediction : 0, True Y : 0\n",
      "[True] Prediction : 0, True Y : 0\n",
      "[True] Prediction : 1, True Y : 1\n",
      "[True] Prediction : 3, True Y : 3\n",
      "[True] Prediction : 0, True Y : 0\n",
      "[True] Prediction : 0, True Y : 0\n",
      "[True] Prediction : 1, True Y : 1\n",
      "[True] Prediction : 3, True Y : 3\n",
      "[True] Prediction : 5, True Y : 5\n",
      "[True] Prediction : 5, True Y : 5\n",
      "[True] Prediction : 1, True Y : 1\n",
      "[True] Prediction : 5, True Y : 5\n",
      "[True] Prediction : 1, True Y : 1\n",
      "[True] Prediction : 0, True Y : 0\n",
      "[True] Prediction : 0, True Y : 0\n",
      "[True] Prediction : 6, True Y : 6\n",
      "[True] Prediction : 0, True Y : 0\n",
      "[True] Prediction : 0, True Y : 0\n",
      "[True] Prediction : 0, True Y : 0\n",
      "[True] Prediction : 0, True Y : 0\n",
      "[True] Prediction : 5, True Y : 5\n",
      "[True] Prediction : 4, True Y : 4\n",
      "[True] Prediction : 6, True Y : 6\n",
      "[True] Prediction : 0, True Y : 0\n",
      "[True] Prediction : 0, True Y : 0\n",
      "[True] Prediction : 1, True Y : 1\n",
      "[True] Prediction : 1, True Y : 1\n",
      "[True] Prediction : 1, True Y : 1\n",
      "[True] Prediction : 1, True Y : 1\n",
      "[True] Prediction : 3, True Y : 3\n",
      "[True] Prediction : 3, True Y : 3\n",
      "[True] Prediction : 2, True Y : 2\n",
      "[True] Prediction : 0, True Y : 0\n",
      "[True] Prediction : 0, True Y : 0\n",
      "[True] Prediction : 0, True Y : 0\n",
      "[True] Prediction : 0, True Y : 0\n",
      "[True] Prediction : 0, True Y : 0\n",
      "[True] Prediction : 0, True Y : 0\n",
      "[True] Prediction : 0, True Y : 0\n",
      "[True] Prediction : 0, True Y : 0\n",
      "[True] Prediction : 1, True Y : 1\n",
      "[True] Prediction : 6, True Y : 6\n",
      "[True] Prediction : 3, True Y : 3\n",
      "[True] Prediction : 0, True Y : 0\n",
      "[True] Prediction : 0, True Y : 0\n",
      "[True] Prediction : 2, True Y : 2\n",
      "[True] Prediction : 6, True Y : 6\n",
      "[True] Prediction : 1, True Y : 1\n",
      "[True] Prediction : 1, True Y : 1\n",
      "[True] Prediction : 2, True Y : 2\n",
      "[True] Prediction : 6, True Y : 6\n",
      "[True] Prediction : 3, True Y : 3\n",
      "[True] Prediction : 1, True Y : 1\n",
      "[True] Prediction : 0, True Y : 0\n",
      "[True] Prediction : 6, True Y : 6\n",
      "[True] Prediction : 3, True Y : 3\n",
      "[True] Prediction : 1, True Y : 1\n",
      "[True] Prediction : 5, True Y : 5\n",
      "[True] Prediction : 4, True Y : 4\n",
      "[True] Prediction : 2, True Y : 2\n",
      "[True] Prediction : 2, True Y : 2\n",
      "[True] Prediction : 3, True Y : 3\n",
      "[True] Prediction : 0, True Y : 0\n",
      "[True] Prediction : 0, True Y : 0\n",
      "[True] Prediction : 1, True Y : 1\n",
      "[True] Prediction : 0, True Y : 0\n",
      "[True] Prediction : 5, True Y : 5\n",
      "[True] Prediction : 0, True Y : 0\n",
      "[True] Prediction : 6, True Y : 6\n",
      "[True] Prediction : 1, True Y : 1\n"
     ]
    }
   ],
   "source": [
    "pred = sess.run(prediction, feed_dict = { X : x_data})\n",
    "for p, y in zip(pred, y_data.flatten()):\n",
    "    print(\"[{}] Prediction : {}, True Y : {}\".format(p == int(y), p, int(y)))"
   ]
  },
  {
   "cell_type": "code",
   "execution_count": null,
   "metadata": {},
   "outputs": [],
   "source": []
  },
  {
   "cell_type": "code",
   "execution_count": null,
   "metadata": {},
   "outputs": [],
   "source": []
  }
 ],
 "metadata": {
  "kernelspec": {
   "display_name": "Python 3",
   "language": "python",
   "name": "python3"
  },
  "language_info": {
   "codemirror_mode": {
    "name": "ipython",
    "version": 3
   },
   "file_extension": ".py",
   "mimetype": "text/x-python",
   "name": "python",
   "nbconvert_exporter": "python",
   "pygments_lexer": "ipython3",
   "version": "3.6.5"
  }
 },
 "nbformat": 4,
 "nbformat_minor": 2
}
