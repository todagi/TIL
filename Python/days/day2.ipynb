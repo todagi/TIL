{
 "cells": [
  {
   "cell_type": "code",
   "execution_count": 1,
   "metadata": {},
   "outputs": [
    {
     "name": "stdout",
     "output_type": "stream",
     "text": [
      "condition met\n"
     ]
    }
   ],
   "source": [
    "con = True\n",
    "\n",
    "if con:\n",
    "    print(\"condition met\")\n",
    "if not con:\n",
    "    print(\"condition not met\")"
   ]
  },
  {
   "cell_type": "code",
   "execution_count": 2,
   "metadata": {},
   "outputs": [
    {
     "name": "stdout",
     "output_type": "stream",
     "text": [
      "condition not met\n"
     ]
    }
   ],
   "source": [
    "con = False\n",
    "\n",
    "if con:\n",
    "    print(\"condition met\")\n",
    "if not con:\n",
    "    print(\"condition not met\")"
   ]
  },
  {
   "cell_type": "code",
   "execution_count": 6,
   "metadata": {},
   "outputs": [
    {
     "name": "stdout",
     "output_type": "stream",
     "text": [
      "nb가 na보다 더 크다\n"
     ]
    }
   ],
   "source": [
    "na = 10\n",
    "nb = 20\n",
    "\n",
    "if na > nb:\n",
    "    print(\"an가 nb보다 더 크다\")\n",
    "else:\n",
    "    print('nb가 na보다 더 크다')"
   ]
  },
  {
   "cell_type": "code",
   "execution_count": 7,
   "metadata": {},
   "outputs": [
    {
     "name": "stdout",
     "output_type": "stream",
     "text": [
      "nb가 na보다 더 크다\n"
     ]
    }
   ],
   "source": [
    "na = 10\n",
    "nb = 20\n",
    "\n",
    "if na > nb:\n",
    "    print(\"an가 nb보다 더 크다\")\n",
    "elif na < nb:\n",
    "    print('nb가 na보다 더 크다')\n",
    "else:\n",
    "    print('na와 nb는 같은 숫자 입니다.')"
   ]
  },
  {
   "cell_type": "code",
   "execution_count": 8,
   "metadata": {},
   "outputs": [
    {
     "name": "stdout",
     "output_type": "stream",
     "text": [
      "na와 nb는 같은 숫자 입니다.\n"
     ]
    }
   ],
   "source": [
    "na = 10\n",
    "nb = 10\n",
    "\n",
    "if na > nb:\n",
    "    print(\"an가 nb보다 더 크다\")\n",
    "elif na < nb:\n",
    "    print('nb가 na보다 더 크다')\n",
    "else:\n",
    "    print('na와 nb는 같은 숫자 입니다.')"
   ]
  },
  {
   "cell_type": "code",
   "execution_count": 9,
   "metadata": {},
   "outputs": [
    {
     "name": "stdout",
     "output_type": "stream",
     "text": [
      "점수를 입력하세요85\n",
      "합격입니다.\n"
     ]
    }
   ],
   "source": [
    "ts = int(input(\"점수를 입력하세요\"))\n",
    "\n",
    "if ts >=  80:\n",
    "    print('합격입니다.')\n",
    "else:\n",
    "    print(\"불합격입니다.\")"
   ]
  },
  {
   "cell_type": "code",
   "execution_count": 10,
   "metadata": {},
   "outputs": [
    {
     "name": "stdout",
     "output_type": "stream",
     "text": [
      "점수를 입력하세요65\n",
      "불합격입니다.\n"
     ]
    }
   ],
   "source": [
    "ts = int(input(\"점수를 입력하세요\"))\n",
    "\n",
    "if ts >=  80:\n",
    "    print('합격입니다.')\n",
    "else:\n",
    "    print(\"불합격입니다.\")"
   ]
  },
  {
   "cell_type": "code",
   "execution_count": 15,
   "metadata": {},
   "outputs": [
    {
     "name": "stdout",
     "output_type": "stream",
     "text": [
      "점수를 입력하세요105\n",
      "잘못된 점수입니다.\n"
     ]
    }
   ],
   "source": [
    "ts = int(input(\"점수를 입력하세요\"))\n",
    "\n",
    "if ts > 80 and ts < 100:\n",
    "    print('합격입니다.')\n",
    "elif ts >= 100:\n",
    "    print(\"잘못된 점수입니다.\")\n",
    "else:\n",
    "    print(\"불합격입니다.\")"
   ]
  },
  {
   "cell_type": "code",
   "execution_count": 16,
   "metadata": {},
   "outputs": [
    {
     "name": "stdout",
     "output_type": "stream",
     "text": [
      "0\n",
      "1\n",
      "2\n",
      "3\n",
      "4\n",
      "5\n",
      "6\n",
      "the end\n"
     ]
    }
   ],
   "source": [
    "num = 0\n",
    "\n",
    "while num < 7:\n",
    "    print(num)\n",
    "    num += 1\n",
    "    \n",
    "print(\"the end\")"
   ]
  },
  {
   "cell_type": "code",
   "execution_count": 21,
   "metadata": {},
   "outputs": [
    {
     "name": "stdout",
     "output_type": "stream",
     "text": [
      "num이 17 일때 while문 break\n"
     ]
    }
   ],
   "source": [
    "num, sum = 10, 0\n",
    "\n",
    "while True:\n",
    "    sum += num\n",
    "    if sum > 100:\n",
    "        break\n",
    "    else:\n",
    "        num += 1\n",
    "    \n",
    "print('num이 %d 일때 while문 break' % num)"
   ]
  },
  {
   "cell_type": "code",
   "execution_count": 22,
   "metadata": {},
   "outputs": [
    {
     "name": "stdout",
     "output_type": "stream",
     "text": [
      "11\n",
      "12\n",
      "13\n",
      "14\n",
      "15\n",
      "16\n",
      "17\n",
      "num 값이 17 일때 while문 탈출 !!\n"
     ]
    }
   ],
   "source": [
    "num, sum = 10, 0\n",
    "\n",
    "while True:\n",
    "    sum += num\n",
    "    if sum > 100:\n",
    "        break\n",
    "    else:\n",
    "        num += 1\n",
    "    print(num)\n",
    "\n",
    "print('num 값이 %d 일때 while문 탈출 !!' % num)"
   ]
  },
  {
   "cell_type": "code",
   "execution_count": 24,
   "metadata": {},
   "outputs": [
    {
     "name": "stdout",
     "output_type": "stream",
     "text": [
      "숫자의 합계는 25 입니다.\n"
     ]
    }
   ],
   "source": [
    "nums = [1,2,3,4,5,6,7,8,9,10]\n",
    "num, sum = 0, 0\n",
    "\n",
    "while num < len(nums):\n",
    "    num = nums[num]\n",
    "    sum += num\n",
    "    num += 1\n",
    "    \n",
    "print('숫자의 합계는', sum, '입니다.')"
   ]
  },
  {
   "cell_type": "code",
   "execution_count": 30,
   "metadata": {},
   "outputs": [
    {
     "name": "stdout",
     "output_type": "stream",
     "text": [
      "빨간색 혹은 파란색을 입력하세요 : green\n",
      "다른 색입니다.\n",
      "빨간색 혹은 파란색을 입력하세요 : blue\n",
      "파란색입니다.\n",
      "종료\n"
     ]
    }
   ],
   "source": [
    "sig_col = ''\n",
    "\n",
    "while sig_col != 'blue' and sig_col != 'red':\n",
    "    sig_col = input('빨간색 혹은 파란색을 입력하세요 : ')\n",
    "    \n",
    "    if sig_col == 'blue':\n",
    "        print('파란색입니다.')\n",
    "    elif sig_col == 'red':\n",
    "        print('빨간색입니다.')\n",
    "    else:\n",
    "        print('다른 색입니다.')\n",
    "print('종료')\n",
    "    "
   ]
  },
  {
   "cell_type": "code",
   "execution_count": 31,
   "metadata": {},
   "outputs": [
    {
     "name": "stdout",
     "output_type": "stream",
     "text": [
      "0\n",
      "1\n",
      "2\n",
      "3\n",
      "4\n",
      "5\n",
      "6\n",
      "7\n",
      "8\n",
      "9\n"
     ]
    }
   ],
   "source": [
    "for i in range(10):\n",
    "    print(i)"
   ]
  },
  {
   "cell_type": "code",
   "execution_count": 34,
   "metadata": {},
   "outputs": [
    {
     "name": "stdout",
     "output_type": "stream",
     "text": [
      "a\n",
      "b\n",
      "c\n",
      "d\n",
      "e\n"
     ]
    }
   ],
   "source": [
    "li = ['a', 'b', 'c', 'd', 'e']\n",
    "\n",
    "for i in range(len(li)):\n",
    "    print(li[i])"
   ]
  },
  {
   "cell_type": "code",
   "execution_count": 35,
   "metadata": {},
   "outputs": [
    {
     "name": "stdout",
     "output_type": "stream",
     "text": [
      "4 5 6 7 8 "
     ]
    }
   ],
   "source": [
    "for i in range(4, 9):\n",
    "    print(i, end = \" \")"
   ]
  },
  {
   "cell_type": "code",
   "execution_count": 36,
   "metadata": {},
   "outputs": [
    {
     "name": "stdout",
     "output_type": "stream",
     "text": [
      "1 3 5 7 9 "
     ]
    }
   ],
   "source": [
    "for i in range(1, 11, 2):\n",
    "    print(i, end = \" \")"
   ]
  },
  {
   "cell_type": "code",
   "execution_count": 37,
   "metadata": {},
   "outputs": [
    {
     "name": "stdout",
     "output_type": "stream",
     "text": [
      "짝수입니다.\n",
      "짝수입니다.\n",
      "짝수입니다.\n",
      "짝수입니다.\n",
      "짝수입니다.\n",
      "끝\n"
     ]
    }
   ],
   "source": [
    "for i in range(10):\n",
    "    if i % 2 == 0:\n",
    "        pass\n",
    "        print('짝수입니다.')\n",
    "    else:\n",
    "        continue\n",
    "        print('홀수입니다.')\n",
    "print('끝')"
   ]
  },
  {
   "cell_type": "code",
   "execution_count": 41,
   "metadata": {},
   "outputs": [
    {
     "name": "stdout",
     "output_type": "stream",
     "text": [
      "0\n",
      "1\n",
      "2\n",
      "3\n",
      "4\n",
      "5\n"
     ]
    }
   ],
   "source": [
    "for i in range(6):\n",
    "    if i == 4:\n",
    "        pass\n",
    "    print(i)"
   ]
  },
  {
   "cell_type": "code",
   "execution_count": 40,
   "metadata": {},
   "outputs": [
    {
     "name": "stdout",
     "output_type": "stream",
     "text": [
      "0\n",
      "1\n",
      "2\n",
      "3\n",
      "5\n"
     ]
    }
   ],
   "source": [
    "for i in range(6):\n",
    "    if i == 4:\n",
    "        continue\n",
    "    print(i)"
   ]
  },
  {
   "cell_type": "code",
   "execution_count": 43,
   "metadata": {},
   "outputs": [
    {
     "name": "stdout",
     "output_type": "stream",
     "text": [
      "\n",
      "*\n",
      "**\n",
      "***\n",
      "****\n",
      "*****\n",
      "******\n",
      "*******\n",
      "********\n",
      "*********\n"
     ]
    }
   ],
   "source": [
    "for i in range(10):\n",
    "    print('*'* i)"
   ]
  },
  {
   "cell_type": "code",
   "execution_count": 44,
   "metadata": {},
   "outputs": [
    {
     "name": "stdout",
     "output_type": "stream",
     "text": [
      "*\n",
      "***\n",
      "*****\n",
      "*******\n",
      "*********\n"
     ]
    }
   ],
   "source": [
    "for i in range(10):\n",
    "    if i % 2 == 1:\n",
    "        print('*'* i)"
   ]
  },
  {
   "cell_type": "code",
   "execution_count": 47,
   "metadata": {},
   "outputs": [
    {
     "name": "stdout",
     "output_type": "stream",
     "text": [
      "    *\n",
      "   ***\n",
      "  *****\n",
      " *******\n",
      "*********\n"
     ]
    }
   ],
   "source": [
    "for i in range(1, 10, 2):\n",
    "    m = \" \" * int((10-i)/2) + \"*\"*i\n",
    "    print(m)"
   ]
  },
  {
   "cell_type": "code",
   "execution_count": null,
   "metadata": {},
   "outputs": [],
   "source": []
  }
 ],
 "metadata": {
  "kernelspec": {
   "display_name": "Python 3",
   "language": "python",
   "name": "python3"
  },
  "language_info": {
   "codemirror_mode": {
    "name": "ipython",
    "version": 3
   },
   "file_extension": ".py",
   "mimetype": "text/x-python",
   "name": "python",
   "nbconvert_exporter": "python",
   "pygments_lexer": "ipython3",
   "version": "3.6.5"
  }
 },
 "nbformat": 4,
 "nbformat_minor": 2
}
