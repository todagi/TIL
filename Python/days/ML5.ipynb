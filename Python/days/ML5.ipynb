{
 "cells": [
  {
   "cell_type": "markdown",
   "metadata": {},
   "source": [
    "## Logistic regression / classifier"
   ]
  },
  {
   "cell_type": "code",
   "execution_count": 2,
   "metadata": {},
   "outputs": [],
   "source": [
    "from tqdm import tqdm_notebook\n",
    "import tensorflow as tf"
   ]
  },
  {
   "cell_type": "code",
   "execution_count": 4,
   "metadata": {},
   "outputs": [
    {
     "data": {
      "image/png": "[encoded data removed]",
      "text/plain": [
       "<Figure size 432x288 with 1 Axes>"
      ]
     },
     "metadata": {},
     "output_type": "display_data"
    }
   ],
   "source": [
    "import numpy as np\n",
    "import matplotlib.pylab as plt\n",
    "\n",
    "def sigmoid(x):\n",
    "    return 1 / (1 + np.exp(-x))\n",
    "\n",
    "x = np.arange(-5.0, 5.0, 0.1)\n",
    "y = sigmoid(x)\n",
    "plt.plot(x, y)\n",
    "plt.ylim(-0.1, 1.1)\n",
    "plt.show()"
   ]
  },
  {
   "cell_type": "markdown",
   "metadata": {},
   "source": [
    "#### 0.5를 기준으로 0.5 보다 크면 합격(1), 작으면 불합격(0)"
   ]
  },
  {
   "cell_type": "code",
   "execution_count": 5,
   "metadata": {},
   "outputs": [],
   "source": [
    "import tensorflow as tf\n",
    "tf.set_random_seed(777)\n",
    "\n",
    "x_data = [[1, 2], [2, 3], [3, 1], [4, 3], [5, 3], [6, 2]]   # [시간, 출석]\n",
    "y_data = [[0], [0], [0], [1], [1], [1]]                     # 0 : 불학격, 1 : 합격\n",
    "\n",
    "X = tf.placeholder(tf.float32, shape = [None, 2])\n",
    "Y = tf.placeholder(tf.float32, shape = [None, 1])\n",
    "\n",
    "W = tf.Variable(tf.random_normal([2, 1]), name = 'wieght')\n",
    "b = tf.Variable(tf.random_normal([1]), name = 'bias')\n",
    "\n",
    "hypothesis = tf.sigmoid(tf.matmul(X, W) + b)\n",
    "cost = -tf.reduce_mean(Y * tf.log(hypothesis) + (1 - Y) *\n",
    "                       tf.log(1 - hypothesis))\n",
    "train = tf.train.GradientDescentOptimizer(learning_rate = 0.01).minimize(cost)\n",
    "\n",
    "predicted = tf.cast(hypothesis > 0.5, dtype = tf.float32)\n",
    "accuracy  = tf.reduce_mean(tf.cast(tf.equal(predicted, Y), dtype = tf.float32))"
   ]
  },
  {
   "cell_type": "code",
   "execution_count": 6,
   "metadata": {},
   "outputs": [
    {
     "data": {
      "application/vnd.jupyter.widget-view+json": {
       "model_id": "6b0fa464fa8747ecaa81c9881eec6693",
       "version_major": 2,
       "version_minor": 0
      },
      "text/plain": [
       "HBox(children=(IntProgress(value=0, max=10001), HTML(value='')))"
      ]
     },
     "metadata": {},
     "output_type": "display_data"
    },
    {
     "name": "stdout",
     "output_type": "stream",
     "text": [
      "Step : 0 \t Cost : 1.7307831048965454\n",
      "Step : 1 \t Cost : 1.709944248199463\n",
      "Step : 2 \t Cost : 1.6891757249832153\n",
      "Step : 3 \t Cost : 1.668479561805725\n",
      "Step : 4 \t Cost : 1.6478610038757324\n",
      "Step : 5 \t Cost : 1.6273226737976074\n",
      "Step : 6 \t Cost : 1.6068668365478516\n",
      "Step : 7 \t Cost : 1.58649742603302\n",
      "Step : 8 \t Cost : 1.5662187337875366\n",
      "Step : 9 \t Cost : 1.5460344552993774\n",
      "Step : 200 \t Cost : 0.5715118050575256\n",
      "Step : 400 \t Cost : 0.507413923740387\n",
      "Step : 600 \t Cost : 0.47182419896125793\n",
      "Step : 800 \t Cost : 0.447584867477417\n",
      "Step : 1000 \t Cost : 0.42857101559638977\n",
      "Step : 1200 \t Cost : 0.41232457756996155\n",
      "Step : 1400 \t Cost : 0.39775505661964417\n",
      "Step : 1600 \t Cost : 0.3843378722667694\n",
      "Step : 1800 \t Cost : 0.37180113792419434\n",
      "Step : 2000 \t Cost : 0.35999321937561035\n",
      "Step : 2200 \t Cost : 0.34882214665412903\n",
      "Step : 2400 \t Cost : 0.3382262885570526\n",
      "Step : 2600 \t Cost : 0.3281605541706085\n",
      "Step : 2800 \t Cost : 0.31858906149864197\n",
      "Step : 3000 \t Cost : 0.3094809353351593\n",
      "Step : 3200 \t Cost : 0.30080851912498474\n",
      "Step : 3400 \t Cost : 0.2925470471382141\n",
      "Step : 3600 \t Cost : 0.2846728265285492\n",
      "Step : 3800 \t Cost : 0.2771639823913574\n",
      "Step : 4000 \t Cost : 0.26999974250793457\n",
      "Step : 4200 \t Cost : 0.2631605863571167\n",
      "Step : 4400 \t Cost : 0.2566281259059906\n",
      "Step : 4600 \t Cost : 0.2503851354122162\n",
      "Step : 4800 \t Cost : 0.2444150596857071\n",
      "Step : 5000 \t Cost : 0.2387027144432068\n",
      "Step : 5200 \t Cost : 0.23323369026184082\n",
      "Step : 5400 \t Cost : 0.22799424827098846\n",
      "Step : 5600 \t Cost : 0.22297196090221405\n",
      "Step : 5800 \t Cost : 0.21815478801727295\n",
      "Step : 6000 \t Cost : 0.21353153884410858\n",
      "Step : 6200 \t Cost : 0.20909170806407928\n",
      "Step : 6400 \t Cost : 0.20482558012008667\n",
      "Step : 6600 \t Cost : 0.20072372257709503\n",
      "Step : 6800 \t Cost : 0.19677771627902985\n",
      "Step : 7000 \t Cost : 0.19297929108142853\n",
      "Step : 7200 \t Cost : 0.18932098150253296\n",
      "Step : 7400 \t Cost : 0.18579553067684174\n",
      "Step : 7600 \t Cost : 0.18239635229110718\n",
      "Step : 7800 \t Cost : 0.1791171431541443\n",
      "Step : 8000 \t Cost : 0.17595188319683075\n",
      "Step : 8200 \t Cost : 0.17289507389068604\n",
      "Step : 8400 \t Cost : 0.1699414849281311\n",
      "Step : 8600 \t Cost : 0.16708622872829437\n",
      "Step : 8800 \t Cost : 0.16432471573352814\n",
      "Step : 9000 \t Cost : 0.16165249049663544\n",
      "Step : 9200 \t Cost : 0.15906552970409393\n",
      "Step : 9400 \t Cost : 0.15655989944934845\n",
      "Step : 9600 \t Cost : 0.1541319638490677\n",
      "Step : 9800 \t Cost : 0.15177834033966064\n",
      "Step : 10000 \t Cost : 0.14949560165405273\n",
      "\n"
     ]
    }
   ],
   "source": [
    "with tf.Session() as sess:\n",
    "    sess.run(tf.global_variables_initializer())\n",
    "    \n",
    "    for step in tqdm_notebook(range(10001)):\n",
    "        cost_val, _ = sess.run([cost, train], feed_dict = { X : x_data, Y : y_data})\n",
    "        if step % 200 == 0 or step < 10:\n",
    "            print(\"Step : {} \\t Cost : {}\".format(step, cost_val))\n",
    "            \n",
    "    h, c, a = sess.run([hypothesis, predicted, accuracy],\n",
    "                        feed_dict = { X : x_data, Y : y_data})"
   ]
  },
  {
   "cell_type": "code",
   "execution_count": 7,
   "metadata": {},
   "outputs": [
    {
     "name": "stdout",
     "output_type": "stream",
     "text": [
      "Hypothesis : \n",
      "[[0.03074028]\n",
      " [0.15884677]\n",
      " [0.30486736]\n",
      " [0.7813819 ]\n",
      " [0.93957496]\n",
      " [0.9801688 ]] \n",
      "\n",
      " Correct (Y) : \n",
      "[[0.]\n",
      " [0.]\n",
      " [0.]\n",
      " [1.]\n",
      " [1.]\n",
      " [1.]] \n",
      "\n",
      " Accuracy : 1.0\n"
     ]
    }
   ],
   "source": [
    "print(\"Hypothesis : \\n{h} \\n\\n Correct (Y) : \\n{c} \\n\\n Accuracy : {a}\".format(h = h, c = c, a = a))"
   ]
  },
  {
   "cell_type": "markdown",
   "metadata": {},
   "source": [
    "#### clssifying diabetes\n",
    "#### 예측값이 1이면 당뇨병, 0이면 당뇨병 X"
   ]
  },
  {
   "cell_type": "code",
   "execution_count": 9,
   "metadata": {},
   "outputs": [
    {
     "name": "stdout",
     "output_type": "stream",
     "text": [
      "(759, 9)\n"
     ]
    },
    {
     "data": {
      "text/html": [
       "<div>\n",
       "<style scoped>\n",
       "    .dataframe tbody tr th:only-of-type {\n",
       "        vertical-align: middle;\n",
       "    }\n",
       "\n",
       "    .dataframe tbody tr th {\n",
       "        vertical-align: top;\n",
       "    }\n",
       "\n",
       "    .dataframe thead th {\n",
       "        text-align: right;\n",
       "    }\n",
       "</style>\n",
       "<table border=\"1\" class=\"dataframe\">\n",
       "  <thead>\n",
       "    <tr style=\"text-align: right;\">\n",
       "      <th></th>\n",
       "      <th>0</th>\n",
       "      <th>1</th>\n",
       "      <th>2</th>\n",
       "      <th>3</th>\n",
       "      <th>4</th>\n",
       "      <th>5</th>\n",
       "      <th>6</th>\n",
       "      <th>7</th>\n",
       "      <th>8</th>\n",
       "    </tr>\n",
       "  </thead>\n",
       "  <tbody>\n",
       "    <tr>\n",
       "      <th>0</th>\n",
       "      <td>-0.294118</td>\n",
       "      <td>0.487437</td>\n",
       "      <td>0.180328</td>\n",
       "      <td>-0.292929</td>\n",
       "      <td>0.000000</td>\n",
       "      <td>0.001490</td>\n",
       "      <td>-0.531170</td>\n",
       "      <td>-0.033333</td>\n",
       "      <td>0</td>\n",
       "    </tr>\n",
       "    <tr>\n",
       "      <th>1</th>\n",
       "      <td>-0.882353</td>\n",
       "      <td>-0.145729</td>\n",
       "      <td>0.081967</td>\n",
       "      <td>-0.414141</td>\n",
       "      <td>0.000000</td>\n",
       "      <td>-0.207153</td>\n",
       "      <td>-0.766866</td>\n",
       "      <td>-0.666667</td>\n",
       "      <td>1</td>\n",
       "    </tr>\n",
       "    <tr>\n",
       "      <th>2</th>\n",
       "      <td>-0.058824</td>\n",
       "      <td>0.839196</td>\n",
       "      <td>0.049180</td>\n",
       "      <td>0.000000</td>\n",
       "      <td>0.000000</td>\n",
       "      <td>-0.305514</td>\n",
       "      <td>-0.492741</td>\n",
       "      <td>-0.633333</td>\n",
       "      <td>0</td>\n",
       "    </tr>\n",
       "    <tr>\n",
       "      <th>3</th>\n",
       "      <td>-0.882353</td>\n",
       "      <td>-0.105528</td>\n",
       "      <td>0.081967</td>\n",
       "      <td>-0.535354</td>\n",
       "      <td>-0.777778</td>\n",
       "      <td>-0.162444</td>\n",
       "      <td>-0.923997</td>\n",
       "      <td>0.000000</td>\n",
       "      <td>1</td>\n",
       "    </tr>\n",
       "    <tr>\n",
       "      <th>4</th>\n",
       "      <td>0.000000</td>\n",
       "      <td>0.376884</td>\n",
       "      <td>-0.344262</td>\n",
       "      <td>-0.292929</td>\n",
       "      <td>-0.602837</td>\n",
       "      <td>0.284650</td>\n",
       "      <td>0.887276</td>\n",
       "      <td>-0.600000</td>\n",
       "      <td>0</td>\n",
       "    </tr>\n",
       "    <tr>\n",
       "      <th>5</th>\n",
       "      <td>-0.411765</td>\n",
       "      <td>0.165829</td>\n",
       "      <td>0.213115</td>\n",
       "      <td>0.000000</td>\n",
       "      <td>0.000000</td>\n",
       "      <td>-0.236960</td>\n",
       "      <td>-0.894962</td>\n",
       "      <td>-0.700000</td>\n",
       "      <td>1</td>\n",
       "    </tr>\n",
       "    <tr>\n",
       "      <th>6</th>\n",
       "      <td>-0.647059</td>\n",
       "      <td>-0.216080</td>\n",
       "      <td>-0.180328</td>\n",
       "      <td>-0.353535</td>\n",
       "      <td>-0.791962</td>\n",
       "      <td>-0.076006</td>\n",
       "      <td>-0.854825</td>\n",
       "      <td>-0.833333</td>\n",
       "      <td>0</td>\n",
       "    </tr>\n",
       "    <tr>\n",
       "      <th>7</th>\n",
       "      <td>0.176471</td>\n",
       "      <td>0.155779</td>\n",
       "      <td>0.000000</td>\n",
       "      <td>0.000000</td>\n",
       "      <td>0.000000</td>\n",
       "      <td>0.052161</td>\n",
       "      <td>-0.952178</td>\n",
       "      <td>-0.733333</td>\n",
       "      <td>1</td>\n",
       "    </tr>\n",
       "    <tr>\n",
       "      <th>8</th>\n",
       "      <td>-0.764706</td>\n",
       "      <td>0.979899</td>\n",
       "      <td>0.147541</td>\n",
       "      <td>-0.090909</td>\n",
       "      <td>0.283688</td>\n",
       "      <td>-0.090909</td>\n",
       "      <td>-0.931682</td>\n",
       "      <td>0.066667</td>\n",
       "      <td>0</td>\n",
       "    </tr>\n",
       "    <tr>\n",
       "      <th>9</th>\n",
       "      <td>-0.058824</td>\n",
       "      <td>0.256281</td>\n",
       "      <td>0.573770</td>\n",
       "      <td>0.000000</td>\n",
       "      <td>0.000000</td>\n",
       "      <td>0.000000</td>\n",
       "      <td>-0.868488</td>\n",
       "      <td>0.100000</td>\n",
       "      <td>0</td>\n",
       "    </tr>\n",
       "  </tbody>\n",
       "</table>\n",
       "</div>"
      ],
      "text/plain": [
       "          0         1         2         3         4         5         6  \\\n",
       "0 -0.294118  0.487437  0.180328 -0.292929  0.000000  0.001490 -0.531170   \n",
       "1 -0.882353 -0.145729  0.081967 -0.414141  0.000000 -0.207153 -0.766866   \n",
       "2 -0.058824  0.839196  0.049180  0.000000  0.000000 -0.305514 -0.492741   \n",
       "3 -0.882353 -0.105528  0.081967 -0.535354 -0.777778 -0.162444 -0.923997   \n",
       "4  0.000000  0.376884 -0.344262 -0.292929 -0.602837  0.284650  0.887276   \n",
       "5 -0.411765  0.165829  0.213115  0.000000  0.000000 -0.236960 -0.894962   \n",
       "6 -0.647059 -0.216080 -0.180328 -0.353535 -0.791962 -0.076006 -0.854825   \n",
       "7  0.176471  0.155779  0.000000  0.000000  0.000000  0.052161 -0.952178   \n",
       "8 -0.764706  0.979899  0.147541 -0.090909  0.283688 -0.090909 -0.931682   \n",
       "9 -0.058824  0.256281  0.573770  0.000000  0.000000  0.000000 -0.868488   \n",
       "\n",
       "          7  8  \n",
       "0 -0.033333  0  \n",
       "1 -0.666667  1  \n",
       "2 -0.633333  0  \n",
       "3  0.000000  1  \n",
       "4 -0.600000  0  \n",
       "5 -0.700000  1  \n",
       "6 -0.833333  0  \n",
       "7 -0.733333  1  \n",
       "8  0.066667  0  \n",
       "9  0.100000  0  "
      ]
     },
     "execution_count": 9,
     "metadata": {},
     "output_type": "execute_result"
    }
   ],
   "source": [
    "import pandas as pd\n",
    "\n",
    "df = pd.read_csv(\"./data/data-03-diabetes.csv\", header = None)\n",
    "print(df.shape)\n",
    "df.head(10)\n",
    "\n",
    "# 8 컬럼이 질병 여부"
   ]
  },
  {
   "cell_type": "code",
   "execution_count": 10,
   "metadata": {},
   "outputs": [
    {
     "name": "stdout",
     "output_type": "stream",
     "text": [
      " x_data.shape : (759, 8) \n",
      " y_data.shape : (759, 1)\n"
     ]
    }
   ],
   "source": [
    "import tensorflow as tf\n",
    "import numpy as np\n",
    "\n",
    "tf.set_random_seed(777)\n",
    "\n",
    "xy = np.loadtxt('./data/data-03-diabetes.csv', delimiter = ',', dtype = np.float32)\n",
    "x_data = xy[:, 0:-1]\n",
    "y_data = xy[:, [-1]]\n",
    "\n",
    "print(\" x_data.shape : {x_shape} \\n y_data.shape : {y_shape}\".format(\n",
    "        x_shape = x_data.shape, \n",
    "        y_shape = y_data.shape\n",
    "    ))"
   ]
  },
  {
   "cell_type": "code",
   "execution_count": 12,
   "metadata": {},
   "outputs": [],
   "source": [
    "X = tf.placeholder(tf.float32, shape = [None, 8])\n",
    "Y = tf.placeholder(tf.float32, shape = [None, 1])\n",
    "\n",
    "W = tf.Variable(tf.random_normal([8, 1]), name = 'weight')\n",
    "b = tf.Variable(tf.random_normal([1]), name = 'bias')\n",
    "\n",
    "hypothesis = tf.sigmoid(tf.matmul(X, W) + b)\n",
    "cost = -tf.reduce_mean(Y * tf.log(hypothesis) + (1 - Y) *\n",
    "                       tf.log(1 - hypothesis))\n",
    "train = tf.train.GradientDescentOptimizer(learning_rate = 0.01).minimize(cost)\n",
    "\n",
    "predicted = tf.cast(hypothesis > 0.5, dtype = tf.float32)\n",
    "accuracy  = tf.reduce_mean(tf.cast(tf.equal(predicted, Y), dtype = tf.float32))"
   ]
  },
  {
   "cell_type": "code",
   "execution_count": 13,
   "metadata": {},
   "outputs": [
    {
     "name": "stdout",
     "output_type": "stream",
     "text": [
      "759\n"
     ]
    },
    {
     "data": {
      "text/plain": [
       "array([[-0.294118  ,  0.487437  ,  0.180328  , -0.292929  ,  0.        ,\n",
       "         0.00149028, -0.53117   , -0.0333333 ,  0.        ],\n",
       "       [-0.882353  , -0.145729  ,  0.0819672 , -0.414141  ,  0.        ,\n",
       "        -0.207153  , -0.766866  , -0.666667  ,  1.        ],\n",
       "       [-0.0588235 ,  0.839196  ,  0.0491803 ,  0.        ,  0.        ,\n",
       "        -0.305514  , -0.492741  , -0.633333  ,  0.        ],\n",
       "       [-0.882353  , -0.105528  ,  0.0819672 , -0.535354  , -0.777778  ,\n",
       "        -0.162444  , -0.923997  ,  0.        ,  1.        ],\n",
       "       [ 0.        ,  0.376884  , -0.344262  , -0.292929  , -0.602837  ,\n",
       "         0.28465   ,  0.887276  , -0.6       ,  0.        ],\n",
       "       [-0.411765  ,  0.165829  ,  0.213115  ,  0.        ,  0.        ,\n",
       "        -0.23696   , -0.894962  , -0.7       ,  1.        ],\n",
       "       [-0.647059  , -0.21608   , -0.180328  , -0.353535  , -0.791962  ,\n",
       "        -0.0760059 , -0.854825  , -0.833333  ,  0.        ],\n",
       "       [ 0.176471  ,  0.155779  ,  0.        ,  0.        ,  0.        ,\n",
       "         0.052161  , -0.952178  , -0.733333  ,  1.        ],\n",
       "       [-0.764706  ,  0.979899  ,  0.147541  , -0.0909091 ,  0.283688  ,\n",
       "        -0.0909091 , -0.931682  ,  0.0666667 ,  0.        ],\n",
       "       [-0.0588235 ,  0.256281  ,  0.57377   ,  0.        ,  0.        ,\n",
       "         0.        , -0.868488  ,  0.1       ,  0.        ]],\n",
       "      dtype=float32)"
      ]
     },
     "execution_count": 13,
     "metadata": {},
     "output_type": "execute_result"
    }
   ],
   "source": [
    "print(len(xy))\n",
    "xy[:10]"
   ]
  },
  {
   "cell_type": "code",
   "execution_count": 14,
   "metadata": {},
   "outputs": [
    {
     "name": "stdout",
     "output_type": "stream",
     "text": [
      "759\n"
     ]
    },
    {
     "data": {
      "text/plain": [
       "array([[-0.294118  ,  0.487437  ,  0.180328  , -0.292929  ,  0.        ,\n",
       "         0.00149028, -0.53117   , -0.0333333 ],\n",
       "       [-0.882353  , -0.145729  ,  0.0819672 , -0.414141  ,  0.        ,\n",
       "        -0.207153  , -0.766866  , -0.666667  ],\n",
       "       [-0.0588235 ,  0.839196  ,  0.0491803 ,  0.        ,  0.        ,\n",
       "        -0.305514  , -0.492741  , -0.633333  ],\n",
       "       [-0.882353  , -0.105528  ,  0.0819672 , -0.535354  , -0.777778  ,\n",
       "        -0.162444  , -0.923997  ,  0.        ],\n",
       "       [ 0.        ,  0.376884  , -0.344262  , -0.292929  , -0.602837  ,\n",
       "         0.28465   ,  0.887276  , -0.6       ],\n",
       "       [-0.411765  ,  0.165829  ,  0.213115  ,  0.        ,  0.        ,\n",
       "        -0.23696   , -0.894962  , -0.7       ],\n",
       "       [-0.647059  , -0.21608   , -0.180328  , -0.353535  , -0.791962  ,\n",
       "        -0.0760059 , -0.854825  , -0.833333  ],\n",
       "       [ 0.176471  ,  0.155779  ,  0.        ,  0.        ,  0.        ,\n",
       "         0.052161  , -0.952178  , -0.733333  ],\n",
       "       [-0.764706  ,  0.979899  ,  0.147541  , -0.0909091 ,  0.283688  ,\n",
       "        -0.0909091 , -0.931682  ,  0.0666667 ],\n",
       "       [-0.0588235 ,  0.256281  ,  0.57377   ,  0.        ,  0.        ,\n",
       "         0.        , -0.868488  ,  0.1       ]], dtype=float32)"
      ]
     },
     "execution_count": 14,
     "metadata": {},
     "output_type": "execute_result"
    }
   ],
   "source": [
    "print(len(x_data))\n",
    "x_data[:10]"
   ]
  },
  {
   "cell_type": "code",
   "execution_count": 16,
   "metadata": {},
   "outputs": [
    {
     "name": "stdout",
     "output_type": "stream",
     "text": [
      "759\n"
     ]
    },
    {
     "data": {
      "text/plain": [
       "array([[0.],\n",
       "       [1.],\n",
       "       [0.],\n",
       "       [1.],\n",
       "       [0.],\n",
       "       [1.],\n",
       "       [0.],\n",
       "       [1.],\n",
       "       [0.],\n",
       "       [0.]], dtype=float32)"
      ]
     },
     "execution_count": 16,
     "metadata": {},
     "output_type": "execute_result"
    }
   ],
   "source": [
    "print(len(y_data)) \n",
    "y_data[:10]"
   ]
  },
  {
   "cell_type": "code",
   "execution_count": 18,
   "metadata": {},
   "outputs": [
    {
     "data": {
      "application/vnd.jupyter.widget-view+json": {
       "model_id": "c3ad69916baa48babea52903c1b594d8",
       "version_major": 2,
       "version_minor": 0
      },
      "text/plain": [
       "HBox(children=(IntProgress(value=0, max=10001), HTML(value='')))"
      ]
     },
     "metadata": {},
     "output_type": "display_data"
    },
    {
     "name": "stdout",
     "output_type": "stream",
     "text": [
      "Step : 0 \t Cost : 0.5699942111968994\n",
      "Step : 1 \t Cost : 0.5699067711830139\n",
      "Step : 2 \t Cost : 0.5698198080062866\n",
      "Step : 3 \t Cost : 0.5697333216667175\n",
      "Step : 4 \t Cost : 0.569647490978241\n",
      "Step : 5 \t Cost : 0.5695620775222778\n",
      "Step : 6 \t Cost : 0.5694771409034729\n",
      "Step : 7 \t Cost : 0.569392740726471\n",
      "Step : 8 \t Cost : 0.5693088173866272\n",
      "Step : 9 \t Cost : 0.5692253112792969\n",
      "Step : 200 \t Cost : 0.5586872100830078\n",
      "Step : 400 \t Cost : 0.5522018671035767\n",
      "Step : 600 \t Cost : 0.546905517578125\n",
      "Step : 800 \t Cost : 0.5421363115310669\n",
      "Step : 1000 \t Cost : 0.5377484560012817\n",
      "Step : 1200 \t Cost : 0.5336918234825134\n",
      "Step : 1400 \t Cost : 0.5299360752105713\n",
      "Step : 1600 \t Cost : 0.5264558792114258\n",
      "Step : 1800 \t Cost : 0.5232288837432861\n",
      "Step : 2000 \t Cost : 0.5202343463897705\n",
      "Step : 2200 \t Cost : 0.5174535512924194\n",
      "Step : 2400 \t Cost : 0.5148691534996033\n",
      "Step : 2600 \t Cost : 0.512465238571167\n",
      "Step : 2800 \t Cost : 0.5102274417877197\n",
      "Step : 3000 \t Cost : 0.5081424117088318\n",
      "Step : 3200 \t Cost : 0.5061980485916138\n",
      "Step : 3400 \t Cost : 0.5043833255767822\n",
      "Step : 3600 \t Cost : 0.5026882290840149\n",
      "Step : 3800 \t Cost : 0.5011032819747925\n",
      "Step : 4000 \t Cost : 0.49962010979652405\n",
      "Step : 4200 \t Cost : 0.49823102355003357\n",
      "Step : 4400 \t Cost : 0.4969289302825928\n",
      "Step : 4600 \t Cost : 0.49570736289024353\n",
      "Step : 4800 \t Cost : 0.4945603013038635\n",
      "Step : 5000 \t Cost : 0.4934825003147125\n",
      "Step : 5200 \t Cost : 0.49246883392333984\n",
      "Step : 5400 \t Cost : 0.49151474237442017\n",
      "Step : 5600 \t Cost : 0.490616112947464\n",
      "Step : 5800 \t Cost : 0.4897688925266266\n",
      "Step : 6000 \t Cost : 0.4889697730541229\n",
      "Step : 6200 \t Cost : 0.4882153570652008\n",
      "Step : 6400 \t Cost : 0.48750272393226624\n",
      "Step : 6600 \t Cost : 0.4868289828300476\n",
      "Step : 6800 \t Cost : 0.48619166016578674\n",
      "Step : 7000 \t Cost : 0.48558834195137024\n",
      "Step : 7200 \t Cost : 0.4850168824195862\n",
      "Step : 7400 \t Cost : 0.48447519540786743\n",
      "Step : 7600 \t Cost : 0.4839614927768707\n",
      "Step : 7800 \t Cost : 0.4834740161895752\n",
      "Step : 8000 \t Cost : 0.4830111861228943\n",
      "Step : 8200 \t Cost : 0.4825713634490967\n",
      "Step : 8400 \t Cost : 0.4821533262729645\n",
      "Step : 8600 \t Cost : 0.48175570368766785\n",
      "Step : 8800 \t Cost : 0.48137736320495605\n",
      "Step : 9000 \t Cost : 0.48101702332496643\n",
      "Step : 9200 \t Cost : 0.48067381978034973\n",
      "Step : 9400 \t Cost : 0.4803466796875\n",
      "Step : 9600 \t Cost : 0.480034738779068\n",
      "Step : 9800 \t Cost : 0.4797371029853821\n",
      "Step : 10000 \t Cost : 0.47945302724838257\n",
      "\n"
     ]
    }
   ],
   "source": [
    "with tf.Session() as sess:\n",
    "    sess.run(tf.global_variables_initializer())\n",
    "    \n",
    "    for step in tqdm_notebook(range(10001)):\n",
    "        cost_val, _ = sess.run([cost, train], feed_dict = { X : x_data, Y : y_data})\n",
    "        \n",
    "        if step % 200 == 0 or step < 10 :\n",
    "            print(\"Step : {} \\t Cost : {}\".format(step, cost_val))    \n",
    "            \n",
    "    h, c, a = sess.run([hypothesis, predicted, accuracy],\n",
    "                        feed_dict={X: x_data, Y: y_data})\n",
    "    "
   ]
  },
  {
   "cell_type": "code",
   "execution_count": 19,
   "metadata": {},
   "outputs": [
    {
     "name": "stdout",
     "output_type": "stream",
     "text": [
      "# Hypothesis: \n",
      "[[0.43339947]\n",
      " [0.94720566]\n",
      " [0.20007235]\n",
      " [0.93894386]\n",
      " [0.2278513 ]\n",
      " [0.75745696]\n",
      " [0.92657954]\n",
      " [0.53759223]\n",
      " [0.18546845]\n",
      " [0.5403845 ]\n",
      " [0.71402186]\n",
      " [0.14679769]\n",
      " [0.3597599 ]\n",
      " [0.33997697]\n",
      " [0.7459084 ]\n",
      " [0.42724505]\n",
      " [0.7351058 ]\n",
      " [0.7228773 ]\n",
      " [0.80256283]\n",
      " [0.6102202 ]] \n",
      "\n",
      "# Correct (Y): \n",
      "[[0.]\n",
      " [1.]\n",
      " [0.]\n",
      " [1.]\n",
      " [0.]\n",
      " [1.]\n",
      " [1.]\n",
      " [1.]\n",
      " [0.]\n",
      " [1.]\n",
      " [1.]\n",
      " [0.]\n",
      " [0.]\n",
      " [0.]\n",
      " [1.]\n",
      " [0.]\n",
      " [1.]\n",
      " [1.]\n",
      " [1.]\n",
      " [1.]] \n",
      "\n",
      "# Accuracy: 0.7733860611915588\n"
     ]
    }
   ],
   "source": [
    "print(\"# Hypothesis: \\n{h} \\n\\n# Correct (Y): \\n{c} \\n\\n# Accuracy: {a}\".format(\n",
    "       h = h[:20], c = c[:20], a = a))"
   ]
  },
  {
   "cell_type": "code",
   "execution_count": 20,
   "metadata": {},
   "outputs": [
    {
     "data": {
      "application/vnd.jupyter.widget-view+json": {
       "model_id": "172b6cebfba4476087c6e9d6e3b53c66",
       "version_major": 2,
       "version_minor": 0
      },
      "text/plain": [
       "HBox(children=(IntProgress(value=0, max=100001), HTML(value='')))"
      ]
     },
     "metadata": {},
     "output_type": "display_data"
    },
    {
     "name": "stdout",
     "output_type": "stream",
     "text": [
      "Step : 0 \t Cost : 0.5699942111968994\n",
      "Step : 1 \t Cost : 0.5699067711830139\n",
      "Step : 2 \t Cost : 0.5698198080062866\n",
      "Step : 3 \t Cost : 0.5697333216667175\n",
      "Step : 4 \t Cost : 0.569647490978241\n",
      "Step : 5 \t Cost : 0.5695620775222778\n",
      "Step : 6 \t Cost : 0.5694771409034729\n",
      "Step : 7 \t Cost : 0.569392740726471\n",
      "Step : 8 \t Cost : 0.5693088173866272\n",
      "Step : 9 \t Cost : 0.5692253112792969\n",
      "Step : 10000 \t Cost : 0.47945302724838257\n",
      "Step : 20000 \t Cost : 0.4735310971736908\n",
      "Step : 30000 \t Cost : 0.47234079241752625\n",
      "Step : 40000 \t Cost : 0.47195571660995483\n",
      "Step : 50000 \t Cost : 0.4718007445335388\n",
      "Step : 60000 \t Cost : 0.4717319905757904\n",
      "Step : 70000 \t Cost : 0.47170016169548035\n",
      "Step : 80000 \t Cost : 0.471684992313385\n",
      "Step : 90000 \t Cost : 0.4716777205467224\n",
      "Step : 100000 \t Cost : 0.47167423367500305\n",
      "\n"
     ]
    }
   ],
   "source": [
    "with tf.Session() as sess:\n",
    "    sess.run(tf.global_variables_initializer())\n",
    "    \n",
    "    for step in tqdm_notebook(range(100001)):\n",
    "        cost_val, _ = sess.run([cost, train], feed_dict = { X : x_data, Y : y_data})\n",
    "        \n",
    "        if step % 10000 == 0 or step < 10 :\n",
    "            print(\"Step : {} \\t Cost : {}\".format(step, cost_val))    \n",
    "            \n",
    "    h, c, a = sess.run([hypothesis, predicted, accuracy],\n",
    "                        feed_dict={X: x_data, Y: y_data})"
   ]
  },
  {
   "cell_type": "code",
   "execution_count": 21,
   "metadata": {},
   "outputs": [
    {
     "name": "stdout",
     "output_type": "stream",
     "text": [
      "# Hypothesis: \n",
      "[[0.35524404]\n",
      " [0.9564848 ]\n",
      " [0.19319178]\n",
      " [0.9623637 ]\n",
      " [0.0701227 ]\n",
      " [0.8325204 ]\n",
      " [0.953251  ]\n",
      " [0.5739991 ]\n",
      " [0.17802857]\n",
      " [0.5922337 ]\n",
      " [0.75323856]\n",
      " [0.11015112]\n",
      " [0.271981  ]\n",
      " [0.19316924]\n",
      " [0.7810731 ]\n",
      " [0.38151214]\n",
      " [0.7939231 ]\n",
      " [0.761504  ]\n",
      " [0.81932783]\n",
      " [0.57582897]] \n",
      "\n",
      "# Correct (Y): \n",
      "[[0.]\n",
      " [1.]\n",
      " [0.]\n",
      " [1.]\n",
      " [0.]\n",
      " [1.]\n",
      " [1.]\n",
      " [1.]\n",
      " [0.]\n",
      " [1.]\n",
      " [1.]\n",
      " [0.]\n",
      " [0.]\n",
      " [0.]\n",
      " [1.]\n",
      " [0.]\n",
      " [1.]\n",
      " [1.]\n",
      " [1.]\n",
      " [1.]] \n",
      "\n",
      "# Accuracy: 0.7694334387779236\n"
     ]
    }
   ],
   "source": [
    "print(\"# Hypothesis: \\n{h} \\n\\n# Correct (Y): \\n{c} \\n\\n# Accuracy: {a}\".format(\n",
    "       h = h[:20], c = c[:20], a = a))"
   ]
  }
 ],
 "metadata": {
  "kernelspec": {
   "display_name": "Python 3",
   "language": "python",
   "name": "python3"
  },
  "language_info": {
   "codemirror_mode": {
    "name": "ipython",
    "version": 3
   },
   "file_extension": ".py",
   "mimetype": "text/x-python",
   "name": "python",
   "nbconvert_exporter": "python",
   "pygments_lexer": "ipython3",
   "version": "3.6.5"
  }
 },
 "nbformat": 4,
 "nbformat_minor": 2
}
