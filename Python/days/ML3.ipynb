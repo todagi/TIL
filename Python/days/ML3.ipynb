{
 "cells": [
  {
   "cell_type": "markdown",
   "metadata": {},
   "source": [
    "## How to minimize cost"
   ]
  },
  {
   "cell_type": "markdown",
   "metadata": {},
   "source": [
    "#### cost minimize 1\n",
    "##### cost = tf.reducemean(tf.square(hypothesis - Y)) "
   ]
  },
  {
   "cell_type": "code",
   "execution_count": 2,
   "metadata": {},
   "outputs": [
    {
     "data": {
      "image/png": "[encoded data removed]",
      "text/plain": [
       "<Figure size 432x288 with 1 Axes>"
      ]
     },
     "metadata": {},
     "output_type": "display_data"
    }
   ],
   "source": [
    "import tensorflow as tf\n",
    "import matplotlib.pyplot as plt\n",
    "\n",
    "X = [1, 2, 3]\n",
    "Y = [1, 2, 3]\n",
    "W = tf.placeholder(tf.float32)\n",
    "\n",
    "hypothesis = X * W \n",
    "cost = tf.reduce_mean(tf.square(hypothesis - Y))\n",
    "\n",
    "sess = tf.Session()\n",
    "sess.run(tf.global_variables_initializer())\n",
    "\n",
    "W_val = []\n",
    "cost_val = []\n",
    "for i in range(-30, 50):\n",
    "    feed_W = i * 0.1\n",
    "    curr_cost, curr_W = sess.run([cost, W], feed_dict = {W : feed_W})\n",
    "    W_val.append(curr_W)\n",
    "    cost_val.append(curr_cost)\n",
    "    \n",
    "plt.plot(W_val, cost_val)\n",
    "plt.show()"
   ]
  },
  {
   "cell_type": "code",
   "execution_count": 3,
   "metadata": {},
   "outputs": [
    {
     "data": {
      "image/png": "[encoded data removed]",
      "text/plain": [
       "<Figure size 432x288 with 1 Axes>"
      ]
     },
     "metadata": {},
     "output_type": "display_data"
    }
   ],
   "source": [
    "W_val = []\n",
    "cost_val = []\n",
    "for i in range(-20, 50):\n",
    "    feed_W = i * 0.1\n",
    "    curr_cost, curr_W = sess.run([cost, W], feed_dict={W: feed_W})\n",
    "    W_val.append(curr_W)\n",
    "    cost_val.append(curr_cost)\n",
    "    \n",
    "plt.plot(W_val, cost_val)\n",
    "plt.show()"
   ]
  },
  {
   "cell_type": "markdown",
   "metadata": {},
   "source": [
    "#### cost minimize 2\n",
    "##### tf.reduce_sum"
   ]
  },
  {
   "cell_type": "code",
   "execution_count": 4,
   "metadata": {},
   "outputs": [
    {
     "name": "stdout",
     "output_type": "stream",
     "text": [
      "step=0,   \t sess_cost=2.497605800628662,    \t W=[0.5776253]\n",
      "step=1,   \t sess_cost=0.7104301452636719,    \t W=[0.7747335]\n",
      "step=2,   \t sess_cost=0.20207789540290833,    \t W=[0.87985784]\n",
      "step=3,   \t sess_cost=0.057479918003082275,    \t W=[0.9359242]\n",
      "step=4,   \t sess_cost=0.016349880024790764,    \t W=[0.9658262]\n",
      "step=5,   \t sess_cost=0.004650619812309742,    \t W=[0.981774]\n",
      "step=6,   \t sess_cost=0.001322851050645113,    \t W=[0.99027944]\n",
      "step=7,   \t sess_cost=0.00037628019344992936,    \t W=[0.9948157]\n",
      "step=8,   \t sess_cost=0.00010702852887334302,    \t W=[0.99723506]\n",
      "step=9,   \t sess_cost=3.0443014111369848e-05,    \t W=[0.9985254]\n",
      "step=10,   \t sess_cost=8.659502782393247e-06,    \t W=[0.9992135]\n",
      "step=11,   \t sess_cost=2.4631440282973927e-06,    \t W=[0.99958056]\n",
      "step=12,   \t sess_cost=7.006400437603588e-07,    \t W=[0.9997763]\n",
      "step=13,   \t sess_cost=1.9943543350109394e-07,    \t W=[0.9998807]\n",
      "step=14,   \t sess_cost=5.6732346820353996e-08,    \t W=[0.99993634]\n",
      "step=15,   \t sess_cost=1.618418821180967e-08,    \t W=[0.999966]\n",
      "step=16,   \t sess_cost=4.596586222760379e-09,    \t W=[0.9999819]\n",
      "step=17,   \t sess_cost=1.3122445352564682e-09,    \t W=[0.99999034]\n",
      "step=18,   \t sess_cost=3.6420999549591215e-10,    \t W=[0.9999949]\n",
      "step=19,   \t sess_cost=1.0329870292480337e-10,    \t W=[0.99999726]\n",
      "step=20,   \t sess_cost=3.162270445500326e-11,    \t W=[0.9999985]\n"
     ]
    }
   ],
   "source": [
    "import tensorflow as tf\n",
    "\n",
    "x_data = [1, 2, 3]\n",
    "y_data = [1, 2, 3]\n",
    "\n",
    "W = tf.Variable(tf.random_normal([1]), name='weight')\n",
    "X = tf.placeholder(tf.float32)\n",
    "Y = tf.placeholder(tf.float32)\n",
    "\n",
    "hypothesis = X * W\n",
    "cost = tf.reduce_sum(tf.square(hypothesis - Y))\n",
    "\n",
    "learning_rate = 0.1\n",
    "gradient      = tf.reduce_mean((W * X - Y) * X)\n",
    "descent       = W - learning_rate * gradient \n",
    "update        = W.assign(descent)\n",
    "\n",
    "sess = tf.Session()\n",
    "sess.run(tf.global_variables_initializer())\n",
    "\n",
    "for step in range(21):\n",
    "    sess.run(update, feed_dict = { X : x_data, Y : y_data})\n",
    "    \n",
    "    print(\"step={step},   \\t sess_cost={sess_cost},    \\t W={sess_W}\".format(\n",
    "            step      = step, \n",
    "            sess_cost = sess.run(cost, feed_dict={X: x_data, Y: y_data}), \n",
    "            sess_W    = sess.run(W)\n",
    "    ));    "
   ]
  },
  {
   "cell_type": "markdown",
   "metadata": {},
   "source": [
    "#### cost minimize 3\n",
    "##### tf.train.GradientDescentOptimizer(learning_rate=0.1)"
   ]
  },
  {
   "cell_type": "code",
   "execution_count": 5,
   "metadata": {},
   "outputs": [],
   "source": [
    "import tensorflow as tf\n",
    "\n",
    "X = [1, 2, 3]\n",
    "Y = [1, 2, 3]\n",
    "W = tf.Variable(5.0)\n",
    "\n",
    "hypothesis = X * W\n",
    "cost = tf.reduce_mean(tf.square(hypothesis - Y))\n",
    "\n",
    "optimizer = tf.train.GradientDescentOptimizer(learning_rate = 0.1)\n",
    "train = optimizer.minimize(cost)\n",
    "\n",
    "sess = tf.Session()"
   ]
  },
  {
   "cell_type": "code",
   "execution_count": 6,
   "metadata": {},
   "outputs": [
    {
     "data": {
      "application/vnd.jupyter.widget-view+json": {
       "model_id": "b5a7c0f0bb1342bca82168cc21d5f14b",
       "version_major": 2,
       "version_minor": 0
      },
      "text/plain": [
       "HBox(children=(IntProgress(value=0, max=101), HTML(value='')))"
      ]
     },
     "metadata": {},
     "output_type": "display_data"
    },
    {
     "name": "stdout",
     "output_type": "stream",
     "text": [
      "step=0, \t W=5.0\n",
      "step=1, \t W=1.2666664123535156\n",
      "step=2, \t W=1.0177778005599976\n",
      "step=3, \t W=1.0011851787567139\n",
      "step=4, \t W=1.0000790357589722\n",
      "step=5, \t W=1.0000052452087402\n",
      "step=6, \t W=1.0000003576278687\n",
      "step=7, \t W=1.0\n",
      "step=8, \t W=1.0\n",
      "step=9, \t W=1.0\n",
      "step=10, \t W=1.0\n",
      "step=20, \t W=1.0\n",
      "step=30, \t W=1.0\n",
      "step=40, \t W=1.0\n",
      "step=50, \t W=1.0\n",
      "step=60, \t W=1.0\n",
      "step=70, \t W=1.0\n",
      "step=80, \t W=1.0\n",
      "step=90, \t W=1.0\n",
      "step=100, \t W=1.0\n",
      "\n"
     ]
    }
   ],
   "source": [
    "from tqdm import tqdm_notebook\n",
    "\n",
    "sess.run(tf.global_variables_initializer())\n",
    "\n",
    "W_val = []\n",
    "step_val = []\n",
    "\n",
    "for step in tqdm_notebook(range(101)):\n",
    "    W_val.append(sess.run(W))\n",
    "    step_val.append(step)\n",
    "    \n",
    "    if step % 10 == 0 or step < 10:\n",
    "        print(\"step={step}, \\t W={W_val}\".format(\n",
    "              step  = step, \n",
    "              W_val = sess.run(W)\n",
    "              )); \n",
    "                \n",
    "    sess.run(train)        "
   ]
  },
  {
   "cell_type": "code",
   "execution_count": 7,
   "metadata": {},
   "outputs": [
    {
     "data": {
      "image/png": "[encoded data removed]",
      "text/plain": [
       "<Figure size 432x288 with 1 Axes>"
      ]
     },
     "metadata": {},
     "output_type": "display_data"
    }
   ],
   "source": [
    "plt.plot(step_val, W_val)\n",
    "plt.title('cost function')\n",
    "plt.xlabel('step')\n",
    "plt.ylabel('W')\n",
    "plt.show()"
   ]
  },
  {
   "cell_type": "code",
   "execution_count": 9,
   "metadata": {},
   "outputs": [
    {
     "data": {
      "text/plain": [
       "tensorflow.python.framework.ops.Operation"
      ]
     },
     "execution_count": 9,
     "metadata": {},
     "output_type": "execute_result"
    }
   ],
   "source": [
    "type(train)"
   ]
  },
  {
   "cell_type": "code",
   "execution_count": 14,
   "metadata": {},
   "outputs": [],
   "source": [
    "X = [1, 2, 3]\n",
    "Y = [2, 4, 6]\n",
    "W = tf.Variable(-7.0)\n",
    "\n",
    "hypothesis = X * W\n",
    "cost = tf.reduce_mean(tf.square(hypothesis - Y))\n",
    "\n",
    "optimizer = tf.train.GradientDescentOptimizer(learning_rate=0.1)\n",
    "train = optimizer.minimize(cost)\n",
    "\n",
    "sess = tf.Session()\n",
    "\n",
    "writer = tf.summary.FileWriter(\"./graph/sect03\", sess.graph)"
   ]
  },
  {
   "cell_type": "code",
   "execution_count": 16,
   "metadata": {},
   "outputs": [
    {
     "data": {
      "text/plain": [
       "<tensorflow.python.framework.ops.Graph at 0x16622cbb748>"
      ]
     },
     "execution_count": 16,
     "metadata": {},
     "output_type": "execute_result"
    }
   ],
   "source": [
    "sess.graph"
   ]
  },
  {
   "cell_type": "code",
   "execution_count": 17,
   "metadata": {},
   "outputs": [
    {
     "data": {
      "application/vnd.jupyter.widget-view+json": {
       "model_id": "c06a2bcd175b461097fae67f478f2a55",
       "version_major": 2,
       "version_minor": 0
      },
      "text/plain": [
       "HBox(children=(IntProgress(value=0, max=101), HTML(value='')))"
      ]
     },
     "metadata": {},
     "output_type": "display_data"
    },
    {
     "name": "stdout",
     "output_type": "stream",
     "text": [
      "step=0, \t W=-7.0\n",
      "step=1, \t W=1.4000000953674316\n",
      "step=2, \t W=1.9600000381469727\n",
      "step=3, \t W=1.997333288192749\n",
      "step=4, \t W=1.9998222589492798\n",
      "step=5, \t W=1.999988079071045\n",
      "step=6, \t W=1.9999991655349731\n",
      "step=7, \t W=1.9999998807907104\n",
      "step=8, \t W=2.0\n",
      "step=9, \t W=2.0\n",
      "step=10, \t W=2.0\n",
      "step=20, \t W=2.0\n",
      "step=30, \t W=2.0\n",
      "step=40, \t W=2.0\n",
      "step=50, \t W=2.0\n",
      "step=60, \t W=2.0\n",
      "step=70, \t W=2.0\n",
      "step=80, \t W=2.0\n",
      "step=90, \t W=2.0\n",
      "step=100, \t W=2.0\n",
      "\n"
     ]
    }
   ],
   "source": [
    "sess.run(tf.global_variables_initializer())\n",
    "\n",
    "for step in tqdm_notebook(range(101)):\n",
    "    \n",
    "    if step % 10 == 0 or step < 10:\n",
    "        print(\"step={step}, \\t W={W_val}\".format( \n",
    "               step  = step, \n",
    "               W_val = sess.run(W)\n",
    "               ));    \n",
    "    sess.run(train)"
   ]
  },
  {
   "cell_type": "code",
   "execution_count": 19,
   "metadata": {},
   "outputs": [
    {
     "data": {
      "text/plain": [
       "2.0"
      ]
     },
     "execution_count": 19,
     "metadata": {},
     "output_type": "execute_result"
    }
   ],
   "source": [
    "W_val = sess.run(W)\n",
    "W_val"
   ]
  }
 ],
 "metadata": {
  "kernelspec": {
   "display_name": "Python 3",
   "language": "python",
   "name": "python3"
  },
  "language_info": {
   "codemirror_mode": {
    "name": "ipython",
    "version": 3
   },
   "file_extension": ".py",
   "mimetype": "text/x-python",
   "name": "python",
   "nbconvert_exporter": "python",
   "pygments_lexer": "ipython3",
   "version": "3.6.5"
  }
 },
 "nbformat": 4,
 "nbformat_minor": 2
}
