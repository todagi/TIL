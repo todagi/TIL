{
 "cells": [
  {
   "cell_type": "code",
   "execution_count": 1,
   "metadata": {},
   "outputs": [
    {
     "name": "stdout",
     "output_type": "stream",
     "text": [
      "string은 <class 'str'>이다.\n",
      "num은 <class 'int'>이다.\n"
     ]
    }
   ],
   "source": [
    "string = '클래스'\n",
    "num = 2\n",
    "\n",
    "print('string은 %s이다.' % type(string))\n",
    "print('num은 %s이다.' % type(num))"
   ]
  },
  {
   "cell_type": "code",
   "execution_count": 2,
   "metadata": {},
   "outputs": [
    {
     "name": "stdout",
     "output_type": "stream",
     "text": [
      "지영이는 선물 노래를 부릅니다.\n",
      "원영이는 동화 노래를 부릅니다.\n",
      "유란이는 몰락 노래를 부릅니다.\n"
     ]
    }
   ],
   "source": [
    "class Song:\n",
    "    song = '선물'\n",
    "    \n",
    "    def __init__(self, name):\n",
    "        self.name = name\n",
    "        \n",
    "    def sing_a_song(self):\n",
    "        print(self.name + \"이는 \" + self.song + ' 노래를 부릅니다.')   \n",
    "    \n",
    "singer1 = Song('지영')\n",
    "singer1.sing_a_song()\n",
    "\n",
    "singer2 = Song('원영')\n",
    "singer2.song = '동화'\n",
    "singer2.sing_a_song()\n",
    "\n",
    "singer3 = Song('유란')  \n",
    "singer3.song = '몰락'\n",
    "singer3.sing_a_song()"
   ]
  },
  {
   "cell_type": "code",
   "execution_count": 3,
   "metadata": {},
   "outputs": [
    {
     "ename": "TypeError",
     "evalue": "__init__() missing 1 required positional argument: 'name'",
     "output_type": "error",
     "traceback": [
      "\u001b[1;31m---------------------------------------------------------------------------\u001b[0m",
      "\u001b[1;31mTypeError\u001b[0m                                 Traceback (most recent call last)",
      "\u001b[1;32m<ipython-input-3-228dbdf3d2bb>\u001b[0m in \u001b[0;36m<module>\u001b[1;34m()\u001b[0m\n\u001b[1;32m----> 1\u001b[1;33m \u001b[0msinger1\u001b[0m \u001b[1;33m=\u001b[0m \u001b[0mSong\u001b[0m\u001b[1;33m(\u001b[0m\u001b[1;33m)\u001b[0m\u001b[1;33m\u001b[0m\u001b[0m\n\u001b[0m\u001b[0;32m      2\u001b[0m \u001b[0msinger1\u001b[0m\u001b[1;33m.\u001b[0m\u001b[0msing_a_song\u001b[0m\u001b[1;33m(\u001b[0m\u001b[1;33m)\u001b[0m\u001b[1;33m\u001b[0m\u001b[0m\n",
      "\u001b[1;31mTypeError\u001b[0m: __init__() missing 1 required positional argument: 'name'"
     ]
    }
   ],
   "source": [
    "singer1 = Song()\n",
    "singer1.sing_a_song()"
   ]
  },
  {
   "cell_type": "markdown",
   "metadata": {},
   "source": [
    "#### 클래스 변수 -> 인스턴스간 공유"
   ]
  },
  {
   "cell_type": "code",
   "execution_count": 4,
   "metadata": {},
   "outputs": [
    {
     "name": "stdout",
     "output_type": "stream",
     "text": [
      "스타크래프트  :  ['RTS', 'AOS']\n",
      "리그오브레전드  :  ['RTS', 'AOS']\n"
     ]
    }
   ],
   "source": [
    "class Game:\n",
    "    names = []\n",
    "    \n",
    "    def __init__(self, name):\n",
    "        self.name = name\n",
    "    def add_genre(self, genre):\n",
    "        self.names.append(genre)\n",
    "\n",
    "game1 = Game('스타크래프트')\n",
    "game2 = Game('리그오브레전드')\n",
    "\n",
    "game1.add_genre('RTS')\n",
    "game2.add_genre('AOS')\n",
    "\n",
    "print(game1.name, \" : \", game1.names)\n",
    "print(game2.name, \" : \", game2.names)"
   ]
  },
  {
   "cell_type": "markdown",
   "metadata": {},
   "source": [
    "#### 인스턴스 변수 -> 인스턴스간 공유 안됨"
   ]
  },
  {
   "cell_type": "code",
   "execution_count": 5,
   "metadata": {},
   "outputs": [
    {
     "name": "stdout",
     "output_type": "stream",
     "text": [
      "리니지  :  ['RPG']\n",
      "오버워치  :  ['FPS']\n"
     ]
    }
   ],
   "source": [
    "class Game2:\n",
    "    def __init__(self, name):\n",
    "        self.name = name\n",
    "        self.names = []\n",
    "\n",
    "    def add_genre(self, genre):\n",
    "        self.names.append(genre)\n",
    "        \n",
    "game3 = Game2('리니지')\n",
    "game4 = Game2('오버워치')\n",
    "\n",
    "game3.add_genre('RPG')\n",
    "game4.add_genre('FPS')\n",
    "\n",
    "print(game3.name, \" : \", game3.names)\n",
    "print(game4.name, \" : \", game4.names)\n"
   ]
  },
  {
   "cell_type": "code",
   "execution_count": 6,
   "metadata": {},
   "outputs": [
    {
     "name": "stdout",
     "output_type": "stream",
     "text": [
      "I ate 샌드위치 and 비빔밥 yesterday\n"
     ]
    }
   ],
   "source": [
    "class meal:\n",
    "    __lunch =  '샌드위치'\n",
    "    __dinner = '비빔밥'\n",
    "    \n",
    "    def get_lunch(self):\n",
    "        return self.__lunch\n",
    "\n",
    "    def get_dinner(self):\n",
    "        return self.__dinner\n",
    "    \n",
    "    def set_lunch(self, lunch):\n",
    "        self.__lunch = lunch\n",
    "\n",
    "    def set_dinner(self, dinner):\n",
    "        self.__dinner = dinner\n",
    "\n",
    "\n",
    "myMeal = meal()\n",
    "my_lunch  = myMeal.get_lunch()\n",
    "my_dinner = myMeal.get_dinner()\n",
    "\n",
    "print(\"I ate %s and %s yesterday\" % (my_lunch, my_dinner) )"
   ]
  },
  {
   "cell_type": "code",
   "execution_count": 7,
   "metadata": {},
   "outputs": [
    {
     "name": "stdout",
     "output_type": "stream",
     "text": [
      "Today I will eat 햄버거 in the afternoon and 설렁탕 at night\n"
     ]
    }
   ],
   "source": [
    "class meal:\n",
    "    __lunch =  '샌드위치'\n",
    "    __dinner = '비빔밥'\n",
    "    \n",
    "    def get_lunch(self):\n",
    "        return self.__lunch\n",
    "\n",
    "    def get_dinner(self):\n",
    "        return self.__dinner\n",
    "    \n",
    "    def set_lunch(self, lunch):\n",
    "        self.__lunch = lunch\n",
    "\n",
    "    def set_dinner(self, dinner):\n",
    "        self.__dinner = dinner\n",
    "\n",
    "\n",
    "myMeal = meal()\n",
    "\n",
    "myMeal.set_lunch('햄버거')\n",
    "myMeal.set_dinner('설렁탕')\n",
    "\n",
    "my_lunch = myMeal.get_lunch()\n",
    "my_dinner = myMeal.get_dinner()\n",
    "\n",
    "print('Today I will eat {ml} in the afternoon and {dl} at night'.format(ml = my_lunch, dl = my_dinner))"
   ]
  },
  {
   "cell_type": "code",
   "execution_count": 8,
   "metadata": {},
   "outputs": [
    {
     "name": "stdout",
     "output_type": "stream",
     "text": [
      "Global_variables :  10\n",
      "Regional_variables :  20\n"
     ]
    }
   ],
   "source": [
    "var = 10\n",
    "\n",
    "def glre():\n",
    "    var = 20\n",
    "    return var\n",
    "\n",
    "\n",
    "print('Global_variables : ', var)\n",
    "print('Regional_variables : ', glre())\n"
   ]
  },
  {
   "cell_type": "code",
   "execution_count": 9,
   "metadata": {},
   "outputs": [],
   "source": [
    "class baseball:\n",
    "    player = '야구선수'\n",
    "    def __init__(self, name):\n",
    "        self.name = name\n",
    "        \n",
    "    def info(self):\n",
    "        print(\"저는 \", self.player, \" \", self.name, \"입니다.\")\n",
    "        \n",
    "class pitcher(baseball):\n",
    "    def __init__(self, name):\n",
    "        self.name = name\n",
    "        self.player = '투수'\n",
    "        \n",
    "    def playrole(self):\n",
    "        print('공을 던집니다.')\n",
    "        \n",
    "class hitter(baseball):\n",
    "    def __init__(self, name):\n",
    "        self.name = name\n",
    "        self.player = '타자'\n",
    "    \n",
    "    def playrole(self):\n",
    "        print('공을 칩니다.')"
   ]
  },
  {
   "cell_type": "code",
   "execution_count": 10,
   "metadata": {},
   "outputs": [
    {
     "name": "stdout",
     "output_type": "stream",
     "text": [
      "================================================== pitcher 객체 생성\n",
      "저는  투수   선동렬 입니다.\n",
      "공을 던집니다.\n",
      " \n",
      "================================================== hitter 객체 생성\n",
      "저는  타자   이종범 입니다.\n",
      "공을 칩니다.\n"
     ]
    }
   ],
   "source": [
    "print('='*50, \"pitcher 객체 생성\")\n",
    "sun = pitcher('선동렬')\n",
    "sun.info()\n",
    "sun.playrole()\n",
    "print(\" \")\n",
    "print('='*50, \"hitter 객체 생성\")\n",
    "sun = hitter('이종범')\n",
    "sun.info()\n",
    "sun.playrole()"
   ]
  },
  {
   "cell_type": "code",
   "execution_count": 15,
   "metadata": {},
   "outputs": [],
   "source": [
    "class test:\n",
    "    def __init__(self, name):\n",
    "        self.name = name\n",
    "    \n",
    "    def subject(self):\n",
    "        print('%s는 이제 시험을 봅니다.' % self.name)\n",
    "        print(self.name + ' 시험 일정은 추후 통보됩니다.')\n",
    "        \n",
    "class math(test):\n",
    "    def subject(self):\n",
    "        print('%s는 이제 수학시험을 봅니다.' % self.name)\n",
    "\n",
    "class history(test):\n",
    "    def subject(self):\n",
    "        print('%s는 이제 역사시험을 봅니다.' % self.name)\n",
    "        \n",
    "class korean(test):\n",
    "    def subject(self):\n",
    "        print('%s는 이제 국어시험을 봅니다.' % self.name)"
   ]
  },
  {
   "cell_type": "code",
   "execution_count": 16,
   "metadata": {},
   "outputs": [],
   "source": [
    "m_test = math('진영이')\n",
    "h_test = history('영수')\n",
    "k_test = korean('호준이')"
   ]
  },
  {
   "cell_type": "code",
   "execution_count": 17,
   "metadata": {},
   "outputs": [
    {
     "name": "stdout",
     "output_type": "stream",
     "text": [
      "진영이는 이제 수학시험을 봅니다.\n",
      "영수는 이제 역사시험을 봅니다.\n",
      "호준이는 이제 국어시험을 봅니다.\n"
     ]
    }
   ],
   "source": [
    "m_test.subject()\n",
    "h_test.subject()\n",
    "k_test.subject()"
   ]
  },
  {
   "cell_type": "code",
   "execution_count": null,
   "metadata": {},
   "outputs": [],
   "source": []
  }
 ],
 "metadata": {
  "kernelspec": {
   "display_name": "Python 3",
   "language": "python",
   "name": "python3"
  },
  "language_info": {
   "codemirror_mode": {
    "name": "ipython",
    "version": 3
   },
   "file_extension": ".py",
   "mimetype": "text/x-python",
   "name": "python",
   "nbconvert_exporter": "python",
   "pygments_lexer": "ipython3",
   "version": "3.6.5"
  }
 },
 "nbformat": 4,
 "nbformat_minor": 2
}
