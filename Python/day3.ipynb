{
 "cells": [
  {
   "cell_type": "markdown",
   "metadata": {},
   "source": [
    "#### 구구단"
   ]
  },
  {
   "cell_type": "code",
   "execution_count": 6,
   "metadata": {},
   "outputs": [
    {
     "name": "stdout",
     "output_type": "stream",
     "text": [
      "알고 싶은 구구단 숫자를 입력하세요3\n",
      "3 * 1 = 3\n",
      "3 * 2 = 6\n",
      "3 * 3 = 9\n",
      "3 * 4 = 12\n",
      "3 * 5 = 15\n",
      "3 * 6 = 18\n",
      "3 * 7 = 21\n",
      "3 * 8 = 24\n",
      "3 * 9 = 27\n"
     ]
    }
   ],
   "source": [
    "fac = input('알고 싶은 구구단 숫자를 입력하세요')\n",
    "fac = int(fac)\n",
    "\n",
    "for i in range(1,10):\n",
    "    print(fac, '*', i, '=', i * fac)"
   ]
  },
  {
   "cell_type": "code",
   "execution_count": 7,
   "metadata": {},
   "outputs": [
    {
     "name": "stdout",
     "output_type": "stream",
     "text": [
      "1 * 1 = 1\n",
      "1 * 2 = 2\n",
      "1 * 3 = 3\n",
      "1 * 4 = 4\n",
      "1 * 5 = 5\n",
      "1 * 6 = 6\n",
      "1 * 7 = 7\n",
      "1 * 8 = 8\n",
      "1 * 9 = 9\n",
      "2 * 1 = 2\n",
      "2 * 2 = 4\n",
      "2 * 3 = 6\n",
      "2 * 4 = 8\n",
      "2 * 5 = 10\n",
      "2 * 6 = 12\n",
      "2 * 7 = 14\n",
      "2 * 8 = 16\n",
      "2 * 9 = 18\n",
      "3 * 1 = 3\n",
      "3 * 2 = 6\n",
      "3 * 3 = 9\n",
      "3 * 4 = 12\n",
      "3 * 5 = 15\n",
      "3 * 6 = 18\n",
      "3 * 7 = 21\n",
      "3 * 8 = 24\n",
      "3 * 9 = 27\n",
      "4 * 1 = 4\n",
      "4 * 2 = 8\n",
      "4 * 3 = 12\n",
      "4 * 4 = 16\n",
      "4 * 5 = 20\n",
      "4 * 6 = 24\n",
      "4 * 7 = 28\n",
      "4 * 8 = 32\n",
      "4 * 9 = 36\n",
      "5 * 1 = 5\n",
      "5 * 2 = 10\n",
      "5 * 3 = 15\n",
      "5 * 4 = 20\n",
      "5 * 5 = 25\n",
      "5 * 6 = 30\n",
      "5 * 7 = 35\n",
      "5 * 8 = 40\n",
      "5 * 9 = 45\n",
      "6 * 1 = 6\n",
      "6 * 2 = 12\n",
      "6 * 3 = 18\n",
      "6 * 4 = 24\n",
      "6 * 5 = 30\n",
      "6 * 6 = 36\n",
      "6 * 7 = 42\n",
      "6 * 8 = 48\n",
      "6 * 9 = 54\n",
      "7 * 1 = 7\n",
      "7 * 2 = 14\n",
      "7 * 3 = 21\n",
      "7 * 4 = 28\n",
      "7 * 5 = 35\n",
      "7 * 6 = 42\n",
      "7 * 7 = 49\n",
      "7 * 8 = 56\n",
      "7 * 9 = 63\n",
      "8 * 1 = 8\n",
      "8 * 2 = 16\n",
      "8 * 3 = 24\n",
      "8 * 4 = 32\n",
      "8 * 5 = 40\n",
      "8 * 6 = 48\n",
      "8 * 7 = 56\n",
      "8 * 8 = 64\n",
      "8 * 9 = 72\n",
      "9 * 1 = 9\n",
      "9 * 2 = 18\n",
      "9 * 3 = 27\n",
      "9 * 4 = 36\n",
      "9 * 5 = 45\n",
      "9 * 6 = 54\n",
      "9 * 7 = 63\n",
      "9 * 8 = 72\n",
      "9 * 9 = 81\n"
     ]
    }
   ],
   "source": [
    "for i in range(1,10):\n",
    "    for j in range(1, 10):\n",
    "        print(i,'*',j,'=',i*j)"
   ]
  },
  {
   "cell_type": "markdown",
   "metadata": {},
   "source": [
    "#### 팩토리얼"
   ]
  },
  {
   "cell_type": "code",
   "execution_count": 2,
   "metadata": {},
   "outputs": [
    {
     "name": "stdout",
     "output_type": "stream",
     "text": [
      "1\n",
      "2\n",
      "6\n",
      "24\n"
     ]
    }
   ],
   "source": [
    "k = 1\n",
    "\n",
    "for i in range(1, 5):\n",
    "    k = k * i\n",
    "    print(k)\n",
    "    "
   ]
  },
  {
   "cell_type": "code",
   "execution_count": 4,
   "metadata": {},
   "outputs": [
    {
     "name": "stdout",
     "output_type": "stream",
     "text": [
      "알고 싶은 팩토리얼 숫자를 입력하세요4\n",
      "24\n"
     ]
    }
   ],
   "source": [
    "fac = input('알고 싶은 팩토리얼 숫자를 입력하세요')\n",
    "fac = int(fac)\n",
    "k = 1\n",
    "\n",
    "for i in range(1, fac+1):\n",
    "    k = k * i\n",
    "print(k)"
   ]
  },
  {
   "cell_type": "code",
   "execution_count": 5,
   "metadata": {},
   "outputs": [
    {
     "name": "stdout",
     "output_type": "stream",
     "text": [
      "알고 싶은 팩토리얼 숫자를 입력하세요10\n",
      "3628800\n"
     ]
    }
   ],
   "source": [
    "fac = input('알고 싶은 팩토리얼 숫자를 입력하세요')\n",
    "fac = int(fac)\n",
    "k = 1\n",
    "\n",
    "for i in range(1, fac+1):\n",
    "    k = k * i\n",
    "print(k)"
   ]
  },
  {
   "cell_type": "markdown",
   "metadata": {},
   "source": [
    "#### 대소문자 변경"
   ]
  },
  {
   "cell_type": "code",
   "execution_count": 6,
   "metadata": {},
   "outputs": [
    {
     "name": "stdout",
     "output_type": "stream",
     "text": [
      "문장을 입력하세요I'm a boy\n",
      "I\n",
      "'\n",
      "m\n",
      " \n",
      "a\n",
      " \n",
      "b\n",
      "o\n",
      "y\n"
     ]
    }
   ],
   "source": [
    "sent = input('문장을 입력하세요')\n",
    "\n",
    "for i in range(len(sent)):\n",
    "    print(sent[i])"
   ]
  },
  {
   "cell_type": "code",
   "execution_count": 1,
   "metadata": {},
   "outputs": [
    {
     "name": "stdout",
     "output_type": "stream",
     "text": [
      "문장을 입력하세요you are a girl\n",
      "['Y', 'O', 'U', ' ', 'A', 'R', 'E', ' ', 'A', ' ', 'G', 'I', 'R', 'L']\n"
     ]
    }
   ],
   "source": [
    "#  You are A Girl\n",
    "\n",
    "sent = input('문장을 입력하세요')\n",
    "cha_sen = []\n",
    "\n",
    "for i in range(len(sent)):\n",
    "    upp = sent[i].upper()\n",
    "    cha_sen.append(upp)\n",
    "cha_sen = str(cha_sen)\n",
    "print(cha_sen) "
   ]
  },
  {
   "cell_type": "code",
   "execution_count": 5,
   "metadata": {},
   "outputs": [
    {
     "name": "stdout",
     "output_type": "stream",
     "text": [
      "문장을 입력하세요You are A Girl\n",
      "YOU ARE A GIRL\n"
     ]
    }
   ],
   "source": [
    "# You are A Girl\n",
    "\n",
    "sent = input('문장을 입력하세요')\n",
    "cha_sen = str()\n",
    "\n",
    "for i in range(len(sent)):\n",
    "    upp = sent[i].upper()\n",
    "    cha_sen += upp\n",
    "\n",
    "print(cha_sen) "
   ]
  },
  {
   "cell_type": "code",
   "execution_count": 6,
   "metadata": {},
   "outputs": [
    {
     "name": "stdout",
     "output_type": "stream",
     "text": [
      "문장을 입력하세요You are A Girl\n",
      "you are a girl\n"
     ]
    }
   ],
   "source": [
    "# You are A Girl\n",
    "\n",
    "sent = input('문장을 입력하세요')\n",
    "cha_sen = str()\n",
    "\n",
    "for i in range(len(sent)):\n",
    "    upp = sent[i].lower()\n",
    "    cha_sen += upp\n",
    "\n",
    "print(cha_sen) "
   ]
  },
  {
   "cell_type": "code",
   "execution_count": 7,
   "metadata": {},
   "outputs": [
    {
     "name": "stdout",
     "output_type": "stream",
     "text": [
      "문장을 입력하세요New York City Taxi Trip Duration\n",
      "nEW yORK cITY tAXI tRIP dURATION\n"
     ]
    }
   ],
   "source": [
    "# New York City Taxi Trip Duration\n",
    "\n",
    "sent = input('문장을 입력하세요')\n",
    "cha_sen = str()\n",
    "\n",
    "for i in range(len(sent)):\n",
    "    if sent[i].isupper() is not True:\n",
    "        upp = sent[i].upper()\n",
    "        cha_sen += upp\n",
    "    else:\n",
    "        low = sent[i].lower()\n",
    "        cha_sen += low\n",
    "        \n",
    "print(cha_sen)"
   ]
  },
  {
   "cell_type": "markdown",
   "metadata": {},
   "source": [
    "#### 자료"
   ]
  },
  {
   "cell_type": "code",
   "execution_count": 3,
   "metadata": {},
   "outputs": [],
   "source": [
    "games = []\n",
    "\n",
    "games.append({'Name' : 'Star Craft', 'Release Year' : 1998, 'Genre' : 'RTS' })\n",
    "games.append({'Name' : 'BATTLEGROUNDS', 'Release Year' : 2017, 'Genre' : 'MMO shooting' })\n",
    "games.append({'Name' : 'League of Legends', 'Release Year' : 2009, 'Genre' : 'AOS' })\n",
    "games.append({'Name' : 'Lineage', 'Release Year' : 1998, 'Genre' : 'MMORPG' })\n"
   ]
  },
  {
   "cell_type": "code",
   "execution_count": 4,
   "metadata": {},
   "outputs": [
    {
     "name": "stdout",
     "output_type": "stream",
     "text": [
      "{'Name': 'Star Craft', 'Release Year': 1998, 'Genre': 'RTS'}\n",
      "{'Name': 'BATTLEGROUNDS', 'Release Year': 2017, 'Genre': 'MMO shooting'}\n",
      "{'Name': 'League of Legends', 'Release Year': 2009, 'Genre': 'AOS'}\n",
      "{'Name': 'Lineage', 'Release Year': 1998, 'Genre': 'MMORPG'}\n"
     ]
    }
   ],
   "source": [
    "for game in games:\n",
    "    print(game)"
   ]
  },
  {
   "cell_type": "code",
   "execution_count": 6,
   "metadata": {},
   "outputs": [
    {
     "name": "stdout",
     "output_type": "stream",
     "text": [
      "영화 보실래요?\n"
     ]
    }
   ],
   "source": [
    "def txtxt(txt1, txt2):\n",
    "    print(txt1, txt2)\n",
    "    \n",
    "txt1 = '영화'\n",
    "txt2 = '보실래요?'\n",
    "\n",
    "txtxt(txt1, txt2)"
   ]
  },
  {
   "cell_type": "code",
   "execution_count": 7,
   "metadata": {},
   "outputs": [
    {
     "data": {
      "text/plain": [
       "45"
      ]
     },
     "execution_count": 7,
     "metadata": {},
     "output_type": "execute_result"
    }
   ],
   "source": [
    "def num_sum(num1, num2):\n",
    "    num3 = num1 + num2\n",
    "    return num3\n",
    "\n",
    "num_sum(15, 30)"
   ]
  },
  {
   "cell_type": "code",
   "execution_count": 9,
   "metadata": {},
   "outputs": [
    {
     "name": "stdout",
     "output_type": "stream",
     "text": [
      "Hi! Function!\n"
     ]
    }
   ],
   "source": [
    "def saH():\n",
    "    print('Hi! Function!')\n",
    "saH()"
   ]
  },
  {
   "cell_type": "code",
   "execution_count": 17,
   "metadata": {},
   "outputs": [
    {
     "name": "stdout",
     "output_type": "stream",
     "text": [
      "20을 뺀 숫자는 58입니다.\n"
     ]
    }
   ],
   "source": [
    "def minus_20(num):\n",
    "    num20 = num - 20\n",
    "    return num20\n",
    "\n",
    "num1 = 78\n",
    "num3 = minus_20(num1)\n",
    "print('20을 뺀 숫자는 %d입니다.'% num3)"
   ]
  },
  {
   "cell_type": "code",
   "execution_count": 18,
   "metadata": {},
   "outputs": [
    {
     "ename": "TypeError",
     "evalue": "minus_20() missing 1 required positional argument: 'num'",
     "output_type": "error",
     "traceback": [
      "\u001b[1;31m---------------------------------------------------------------------------\u001b[0m",
      "\u001b[1;31mTypeError\u001b[0m                                 Traceback (most recent call last)",
      "\u001b[1;32m<ipython-input-18-d5d3d5dadd9b>\u001b[0m in \u001b[0;36m<module>\u001b[1;34m()\u001b[0m\n\u001b[1;32m----> 1\u001b[1;33m \u001b[0mnum4\u001b[0m \u001b[1;33m=\u001b[0m \u001b[0mminus_20\u001b[0m\u001b[1;33m(\u001b[0m\u001b[1;33m)\u001b[0m\u001b[1;33m\u001b[0m\u001b[0m\n\u001b[0m\u001b[0;32m      2\u001b[0m \u001b[0mprint\u001b[0m\u001b[1;33m(\u001b[0m\u001b[1;34m'20을 뺀 숫자는 %d입니다.'\u001b[0m\u001b[1;33m%\u001b[0m \u001b[0mnum4\u001b[0m\u001b[1;33m)\u001b[0m\u001b[1;33m\u001b[0m\u001b[0m\n",
      "\u001b[1;31mTypeError\u001b[0m: minus_20() missing 1 required positional argument: 'num'"
     ]
    }
   ],
   "source": [
    "num4 = minus_20()\n",
    "print('20을 뺀 숫자는 %d입니다.'% num4)"
   ]
  },
  {
   "cell_type": "code",
   "execution_count": 19,
   "metadata": {},
   "outputs": [
    {
     "name": "stdout",
     "output_type": "stream",
     "text": [
      "주문하신 메뉴 불고기 나왔습니다.\n"
     ]
    }
   ],
   "source": [
    "def order(menu):\n",
    "    print('주문하신 메뉴 %s 나왔습니다.' % (menu))\n",
    "\n",
    "order('불고기')"
   ]
  },
  {
   "cell_type": "code",
   "execution_count": 24,
   "metadata": {},
   "outputs": [
    {
     "name": "stdout",
     "output_type": "stream",
     "text": [
      "주문하신 메뉴 삼겹살 나왔습니다.\n"
     ]
    }
   ],
   "source": [
    "def order_1(menu='삼겹살'):\n",
    "    print('주문하신 메뉴 %s 나왔습니다.' % (menu))\n",
    "\n",
    "order_1()"
   ]
  },
  {
   "cell_type": "code",
   "execution_count": 25,
   "metadata": {},
   "outputs": [
    {
     "name": "stdout",
     "output_type": "stream",
     "text": [
      "주문하신 메뉴 오삼불고기 나왔습니다.\n"
     ]
    }
   ],
   "source": [
    "order_1('오삼불고기')"
   ]
  },
  {
   "cell_type": "code",
   "execution_count": 26,
   "metadata": {},
   "outputs": [
    {
     "data": {
      "text/plain": [
       "<__main__.Myname at 0x2a4f70feda0>"
      ]
     },
     "execution_count": 26,
     "metadata": {},
     "output_type": "execute_result"
    }
   ],
   "source": [
    "class Myname:\n",
    "    name = 'kane'\n",
    "    \n",
    "    def sayH():\n",
    "        insa = \"안녕 \" + name + \" 반가워!\"\n",
    "        return insa\n",
    "\n",
    "Myname()"
   ]
  },
  {
   "cell_type": "code",
   "execution_count": 28,
   "metadata": {},
   "outputs": [
    {
     "ename": "TypeError",
     "evalue": "sayH() takes 0 positional arguments but 1 was given",
     "output_type": "error",
     "traceback": [
      "\u001b[1;31m---------------------------------------------------------------------------\u001b[0m",
      "\u001b[1;31mTypeError\u001b[0m                                 Traceback (most recent call last)",
      "\u001b[1;32m<ipython-input-28-724098d8596d>\u001b[0m in \u001b[0;36m<module>\u001b[1;34m()\u001b[0m\n\u001b[0;32m      1\u001b[0m \u001b[0mMyname\u001b[0m \u001b[1;33m=\u001b[0m \u001b[0mMyname\u001b[0m\u001b[1;33m(\u001b[0m\u001b[1;33m)\u001b[0m\u001b[1;33m\u001b[0m\u001b[0m\n\u001b[0;32m      2\u001b[0m \u001b[0mmy_obj\u001b[0m \u001b[1;33m=\u001b[0m \u001b[0mMyname\u001b[0m\u001b[1;33m.\u001b[0m\u001b[0mname\u001b[0m\u001b[1;33m\u001b[0m\u001b[0m\n\u001b[1;32m----> 3\u001b[1;33m \u001b[0mmy_mth\u001b[0m \u001b[1;33m=\u001b[0m \u001b[0mMyname\u001b[0m\u001b[1;33m.\u001b[0m\u001b[0msayH\u001b[0m\u001b[1;33m(\u001b[0m\u001b[1;33m)\u001b[0m\u001b[1;33m\u001b[0m\u001b[0m\n\u001b[0m\u001b[0;32m      4\u001b[0m \u001b[1;33m\u001b[0m\u001b[0m\n\u001b[0;32m      5\u001b[0m \u001b[0mprint\u001b[0m\u001b[1;33m(\u001b[0m\u001b[0mmy_obj\u001b[0m\u001b[1;33m)\u001b[0m\u001b[1;33m\u001b[0m\u001b[0m\n",
      "\u001b[1;31mTypeError\u001b[0m: sayH() takes 0 positional arguments but 1 was given"
     ]
    }
   ],
   "source": [
    "Myname = Myname()\n",
    "my_obj = Myname.name\n",
    "my_mth = Myname.sayH()\n",
    "\n",
    "print(my_obj)\n",
    "print(my_mth)"
   ]
  },
  {
   "cell_type": "code",
   "execution_count": 38,
   "metadata": {},
   "outputs": [
    {
     "name": "stdout",
     "output_type": "stream",
     "text": [
      "kane\n",
      "안녕 kane 반가워!\n"
     ]
    }
   ],
   "source": [
    "class Myname:\n",
    "    name = 'kane'\n",
    "    \n",
    "    def sayH(self):\n",
    "        insa = \"안녕 \" + self.name + \" 반가워!\"\n",
    "        return insa\n",
    "\n",
    "Myname = Myname()\n",
    "my_obj = Myname.name\n",
    "my_mth = Myname.sayH()\n",
    "\n",
    "print(my_obj)\n",
    "print(my_mth)"
   ]
  },
  {
   "cell_type": "code",
   "execution_count": 40,
   "metadata": {},
   "outputs": [
    {
     "data": {
      "text/plain": [
       "'안녕 Jane 반가워!'"
      ]
     },
     "execution_count": 40,
     "metadata": {},
     "output_type": "execute_result"
    }
   ],
   "source": [
    "class Myname:\n",
    "    name = 'kane'\n",
    "    \n",
    "    def sayH(self):\n",
    "        insa = \"안녕 \" + self.name + \" 반가워!\"\n",
    "        return insa\n",
    "\n",
    "Myname = Myname()\n",
    "Myname.name = 'Jane'\n",
    "Myname.sayH()"
   ]
  },
  {
   "cell_type": "code",
   "execution_count": 41,
   "metadata": {},
   "outputs": [
    {
     "data": {
      "text/plain": [
       "'안녕 Mike 반가워!'"
      ]
     },
     "execution_count": 41,
     "metadata": {},
     "output_type": "execute_result"
    }
   ],
   "source": [
    "class Myname:\n",
    "    def __init__(self, name):\n",
    "        self.name = name\n",
    "    \n",
    "    def sayH(self):\n",
    "        insa = \"안녕 \" + self.name + \" 반가워!\"\n",
    "        return insa\n",
    "\n",
    "Myname = Myname('Mike')\n",
    "Myname.sayH()"
   ]
  },
  {
   "cell_type": "code",
   "execution_count": null,
   "metadata": {},
   "outputs": [],
   "source": []
  }
 ],
 "metadata": {
  "kernelspec": {
   "display_name": "Python 3",
   "language": "python",
   "name": "python3"
  },
  "language_info": {
   "codemirror_mode": {
    "name": "ipython",
    "version": 3
   },
   "file_extension": ".py",
   "mimetype": "text/x-python",
   "name": "python",
   "nbconvert_exporter": "python",
   "pygments_lexer": "ipython3",
   "version": "3.6.5"
  }
 },
 "nbformat": 4,
 "nbformat_minor": 2
}
